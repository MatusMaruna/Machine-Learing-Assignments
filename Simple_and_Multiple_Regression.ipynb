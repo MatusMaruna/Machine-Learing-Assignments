{
  "nbformat": 4,
  "nbformat_minor": 0,
  "metadata": {
    "colab": {
      "name": "Assignment2+3.ipynb",
      "provenance": [],
      "collapsed_sections": [],
      "toc_visible": true
    },
    "kernelspec": {
      "name": "python3",
      "display_name": "Python 3"
    }
  },
  "cells": [
    {
      "cell_type": "code",
      "metadata": {
        "id": "e9yQSLdD5pRN",
        "colab_type": "code",
        "colab": {}
      },
      "source": [
        "import pandas as pd\n",
        "import seaborn as sns\n",
        "import matplotlib.pyplot as plt\n",
        "import statsmodels.api as sm\n",
        "import statsmodels.graphics.api as smg\n",
        "import numpy as np\n",
        "from math import log\n",
        "from statsmodels.formula.api import ols"
      ],
      "execution_count": 0,
      "outputs": []
    },
    {
      "cell_type": "code",
      "metadata": {
        "id": "utSbH2dc5uAG",
        "colab_type": "code",
        "outputId": "340c423b-0e8c-4a9f-fd09-d7febc9cc9a4",
        "colab": {
          "base_uri": "https://localhost:8080/",
          "height": 34
        }
      },
      "source": [
        "df = pd.read_csv(\"Boston.csv\")\n",
        "len(df.columns)"
      ],
      "execution_count": 149,
      "outputs": [
        {
          "output_type": "execute_result",
          "data": {
            "text/plain": [
              "15"
            ]
          },
          "metadata": {
            "tags": []
          },
          "execution_count": 149
        }
      ]
    },
    {
      "cell_type": "code",
      "metadata": {
        "id": "IkdtBV1Ney6w",
        "colab_type": "code",
        "outputId": "157121ea-1abc-46f0-890b-ebf9e56ed88f",
        "colab": {
          "base_uri": "https://localhost:8080/",
          "height": 255
        }
      },
      "source": [
        "del df['Unnamed: 0']\n",
        "df.columns.values.tolist() "
      ],
      "execution_count": 150,
      "outputs": [
        {
          "output_type": "execute_result",
          "data": {
            "text/plain": [
              "['crim',\n",
              " 'zn',\n",
              " 'indus',\n",
              " 'chas',\n",
              " 'nox',\n",
              " 'rm',\n",
              " 'age',\n",
              " 'dis',\n",
              " 'rad',\n",
              " 'tax',\n",
              " 'ptratio',\n",
              " 'black',\n",
              " 'lstat',\n",
              " 'medv']"
            ]
          },
          "metadata": {
            "tags": []
          },
          "execution_count": 150
        }
      ]
    },
    {
      "cell_type": "code",
      "metadata": {
        "id": "db8TPKI1e34I",
        "colab_type": "code",
        "outputId": "d005683e-997b-4e08-c8cc-f701a584574a",
        "colab": {
          "base_uri": "https://localhost:8080/",
          "height": 34
        }
      },
      "source": [
        "df.shape[0]"
      ],
      "execution_count": 151,
      "outputs": [
        {
          "output_type": "execute_result",
          "data": {
            "text/plain": [
              "506"
            ]
          },
          "metadata": {
            "tags": []
          },
          "execution_count": 151
        }
      ]
    },
    {
      "cell_type": "code",
      "metadata": {
        "id": "QgKf4IGlfDVI",
        "colab_type": "code",
        "outputId": "d79dd78b-e847-48e2-f1cc-de8584ff7d1d",
        "colab": {
          "base_uri": "https://localhost:8080/",
          "height": 419
        }
      },
      "source": [
        "df"
      ],
      "execution_count": 152,
      "outputs": [
        {
          "output_type": "execute_result",
          "data": {
            "text/html": [
              "<div>\n",
              "<style scoped>\n",
              "    .dataframe tbody tr th:only-of-type {\n",
              "        vertical-align: middle;\n",
              "    }\n",
              "\n",
              "    .dataframe tbody tr th {\n",
              "        vertical-align: top;\n",
              "    }\n",
              "\n",
              "    .dataframe thead th {\n",
              "        text-align: right;\n",
              "    }\n",
              "</style>\n",
              "<table border=\"1\" class=\"dataframe\">\n",
              "  <thead>\n",
              "    <tr style=\"text-align: right;\">\n",
              "      <th></th>\n",
              "      <th>crim</th>\n",
              "      <th>zn</th>\n",
              "      <th>indus</th>\n",
              "      <th>chas</th>\n",
              "      <th>nox</th>\n",
              "      <th>rm</th>\n",
              "      <th>age</th>\n",
              "      <th>dis</th>\n",
              "      <th>rad</th>\n",
              "      <th>tax</th>\n",
              "      <th>ptratio</th>\n",
              "      <th>black</th>\n",
              "      <th>lstat</th>\n",
              "      <th>medv</th>\n",
              "    </tr>\n",
              "  </thead>\n",
              "  <tbody>\n",
              "    <tr>\n",
              "      <th>0</th>\n",
              "      <td>0.00632</td>\n",
              "      <td>18.0</td>\n",
              "      <td>2.31</td>\n",
              "      <td>0</td>\n",
              "      <td>0.538</td>\n",
              "      <td>6.575</td>\n",
              "      <td>65.2</td>\n",
              "      <td>4.0900</td>\n",
              "      <td>1</td>\n",
              "      <td>296</td>\n",
              "      <td>15.3</td>\n",
              "      <td>396.90</td>\n",
              "      <td>4.98</td>\n",
              "      <td>24.0</td>\n",
              "    </tr>\n",
              "    <tr>\n",
              "      <th>1</th>\n",
              "      <td>0.02731</td>\n",
              "      <td>0.0</td>\n",
              "      <td>7.07</td>\n",
              "      <td>0</td>\n",
              "      <td>0.469</td>\n",
              "      <td>6.421</td>\n",
              "      <td>78.9</td>\n",
              "      <td>4.9671</td>\n",
              "      <td>2</td>\n",
              "      <td>242</td>\n",
              "      <td>17.8</td>\n",
              "      <td>396.90</td>\n",
              "      <td>9.14</td>\n",
              "      <td>21.6</td>\n",
              "    </tr>\n",
              "    <tr>\n",
              "      <th>2</th>\n",
              "      <td>0.02729</td>\n",
              "      <td>0.0</td>\n",
              "      <td>7.07</td>\n",
              "      <td>0</td>\n",
              "      <td>0.469</td>\n",
              "      <td>7.185</td>\n",
              "      <td>61.1</td>\n",
              "      <td>4.9671</td>\n",
              "      <td>2</td>\n",
              "      <td>242</td>\n",
              "      <td>17.8</td>\n",
              "      <td>392.83</td>\n",
              "      <td>4.03</td>\n",
              "      <td>34.7</td>\n",
              "    </tr>\n",
              "    <tr>\n",
              "      <th>3</th>\n",
              "      <td>0.03237</td>\n",
              "      <td>0.0</td>\n",
              "      <td>2.18</td>\n",
              "      <td>0</td>\n",
              "      <td>0.458</td>\n",
              "      <td>6.998</td>\n",
              "      <td>45.8</td>\n",
              "      <td>6.0622</td>\n",
              "      <td>3</td>\n",
              "      <td>222</td>\n",
              "      <td>18.7</td>\n",
              "      <td>394.63</td>\n",
              "      <td>2.94</td>\n",
              "      <td>33.4</td>\n",
              "    </tr>\n",
              "    <tr>\n",
              "      <th>4</th>\n",
              "      <td>0.06905</td>\n",
              "      <td>0.0</td>\n",
              "      <td>2.18</td>\n",
              "      <td>0</td>\n",
              "      <td>0.458</td>\n",
              "      <td>7.147</td>\n",
              "      <td>54.2</td>\n",
              "      <td>6.0622</td>\n",
              "      <td>3</td>\n",
              "      <td>222</td>\n",
              "      <td>18.7</td>\n",
              "      <td>396.90</td>\n",
              "      <td>5.33</td>\n",
              "      <td>36.2</td>\n",
              "    </tr>\n",
              "    <tr>\n",
              "      <th>...</th>\n",
              "      <td>...</td>\n",
              "      <td>...</td>\n",
              "      <td>...</td>\n",
              "      <td>...</td>\n",
              "      <td>...</td>\n",
              "      <td>...</td>\n",
              "      <td>...</td>\n",
              "      <td>...</td>\n",
              "      <td>...</td>\n",
              "      <td>...</td>\n",
              "      <td>...</td>\n",
              "      <td>...</td>\n",
              "      <td>...</td>\n",
              "      <td>...</td>\n",
              "    </tr>\n",
              "    <tr>\n",
              "      <th>501</th>\n",
              "      <td>0.06263</td>\n",
              "      <td>0.0</td>\n",
              "      <td>11.93</td>\n",
              "      <td>0</td>\n",
              "      <td>0.573</td>\n",
              "      <td>6.593</td>\n",
              "      <td>69.1</td>\n",
              "      <td>2.4786</td>\n",
              "      <td>1</td>\n",
              "      <td>273</td>\n",
              "      <td>21.0</td>\n",
              "      <td>391.99</td>\n",
              "      <td>9.67</td>\n",
              "      <td>22.4</td>\n",
              "    </tr>\n",
              "    <tr>\n",
              "      <th>502</th>\n",
              "      <td>0.04527</td>\n",
              "      <td>0.0</td>\n",
              "      <td>11.93</td>\n",
              "      <td>0</td>\n",
              "      <td>0.573</td>\n",
              "      <td>6.120</td>\n",
              "      <td>76.7</td>\n",
              "      <td>2.2875</td>\n",
              "      <td>1</td>\n",
              "      <td>273</td>\n",
              "      <td>21.0</td>\n",
              "      <td>396.90</td>\n",
              "      <td>9.08</td>\n",
              "      <td>20.6</td>\n",
              "    </tr>\n",
              "    <tr>\n",
              "      <th>503</th>\n",
              "      <td>0.06076</td>\n",
              "      <td>0.0</td>\n",
              "      <td>11.93</td>\n",
              "      <td>0</td>\n",
              "      <td>0.573</td>\n",
              "      <td>6.976</td>\n",
              "      <td>91.0</td>\n",
              "      <td>2.1675</td>\n",
              "      <td>1</td>\n",
              "      <td>273</td>\n",
              "      <td>21.0</td>\n",
              "      <td>396.90</td>\n",
              "      <td>5.64</td>\n",
              "      <td>23.9</td>\n",
              "    </tr>\n",
              "    <tr>\n",
              "      <th>504</th>\n",
              "      <td>0.10959</td>\n",
              "      <td>0.0</td>\n",
              "      <td>11.93</td>\n",
              "      <td>0</td>\n",
              "      <td>0.573</td>\n",
              "      <td>6.794</td>\n",
              "      <td>89.3</td>\n",
              "      <td>2.3889</td>\n",
              "      <td>1</td>\n",
              "      <td>273</td>\n",
              "      <td>21.0</td>\n",
              "      <td>393.45</td>\n",
              "      <td>6.48</td>\n",
              "      <td>22.0</td>\n",
              "    </tr>\n",
              "    <tr>\n",
              "      <th>505</th>\n",
              "      <td>0.04741</td>\n",
              "      <td>0.0</td>\n",
              "      <td>11.93</td>\n",
              "      <td>0</td>\n",
              "      <td>0.573</td>\n",
              "      <td>6.030</td>\n",
              "      <td>80.8</td>\n",
              "      <td>2.5050</td>\n",
              "      <td>1</td>\n",
              "      <td>273</td>\n",
              "      <td>21.0</td>\n",
              "      <td>396.90</td>\n",
              "      <td>7.88</td>\n",
              "      <td>11.9</td>\n",
              "    </tr>\n",
              "  </tbody>\n",
              "</table>\n",
              "<p>506 rows × 14 columns</p>\n",
              "</div>"
            ],
            "text/plain": [
              "        crim    zn  indus  chas    nox  ...  tax  ptratio   black  lstat  medv\n",
              "0    0.00632  18.0   2.31     0  0.538  ...  296     15.3  396.90   4.98  24.0\n",
              "1    0.02731   0.0   7.07     0  0.469  ...  242     17.8  396.90   9.14  21.6\n",
              "2    0.02729   0.0   7.07     0  0.469  ...  242     17.8  392.83   4.03  34.7\n",
              "3    0.03237   0.0   2.18     0  0.458  ...  222     18.7  394.63   2.94  33.4\n",
              "4    0.06905   0.0   2.18     0  0.458  ...  222     18.7  396.90   5.33  36.2\n",
              "..       ...   ...    ...   ...    ...  ...  ...      ...     ...    ...   ...\n",
              "501  0.06263   0.0  11.93     0  0.573  ...  273     21.0  391.99   9.67  22.4\n",
              "502  0.04527   0.0  11.93     0  0.573  ...  273     21.0  396.90   9.08  20.6\n",
              "503  0.06076   0.0  11.93     0  0.573  ...  273     21.0  396.90   5.64  23.9\n",
              "504  0.10959   0.0  11.93     0  0.573  ...  273     21.0  393.45   6.48  22.0\n",
              "505  0.04741   0.0  11.93     0  0.573  ...  273     21.0  396.90   7.88  11.9\n",
              "\n",
              "[506 rows x 14 columns]"
            ]
          },
          "metadata": {
            "tags": []
          },
          "execution_count": 152
        }
      ]
    },
    {
      "cell_type": "code",
      "metadata": {
        "id": "7qT1q3iTfGx7",
        "colab_type": "code",
        "outputId": "0ba4e44e-7557-4b15-d660-3eabaf55b153",
        "colab": {
          "base_uri": "https://localhost:8080/",
          "height": 317
        }
      },
      "source": [
        "df.describe()"
      ],
      "execution_count": 153,
      "outputs": [
        {
          "output_type": "execute_result",
          "data": {
            "text/html": [
              "<div>\n",
              "<style scoped>\n",
              "    .dataframe tbody tr th:only-of-type {\n",
              "        vertical-align: middle;\n",
              "    }\n",
              "\n",
              "    .dataframe tbody tr th {\n",
              "        vertical-align: top;\n",
              "    }\n",
              "\n",
              "    .dataframe thead th {\n",
              "        text-align: right;\n",
              "    }\n",
              "</style>\n",
              "<table border=\"1\" class=\"dataframe\">\n",
              "  <thead>\n",
              "    <tr style=\"text-align: right;\">\n",
              "      <th></th>\n",
              "      <th>crim</th>\n",
              "      <th>zn</th>\n",
              "      <th>indus</th>\n",
              "      <th>chas</th>\n",
              "      <th>nox</th>\n",
              "      <th>rm</th>\n",
              "      <th>age</th>\n",
              "      <th>dis</th>\n",
              "      <th>rad</th>\n",
              "      <th>tax</th>\n",
              "      <th>ptratio</th>\n",
              "      <th>black</th>\n",
              "      <th>lstat</th>\n",
              "      <th>medv</th>\n",
              "    </tr>\n",
              "  </thead>\n",
              "  <tbody>\n",
              "    <tr>\n",
              "      <th>count</th>\n",
              "      <td>506.000000</td>\n",
              "      <td>506.000000</td>\n",
              "      <td>506.000000</td>\n",
              "      <td>506.000000</td>\n",
              "      <td>506.000000</td>\n",
              "      <td>506.000000</td>\n",
              "      <td>506.000000</td>\n",
              "      <td>506.000000</td>\n",
              "      <td>506.000000</td>\n",
              "      <td>506.000000</td>\n",
              "      <td>506.000000</td>\n",
              "      <td>506.000000</td>\n",
              "      <td>506.000000</td>\n",
              "      <td>506.000000</td>\n",
              "    </tr>\n",
              "    <tr>\n",
              "      <th>mean</th>\n",
              "      <td>3.613524</td>\n",
              "      <td>11.363636</td>\n",
              "      <td>11.136779</td>\n",
              "      <td>0.069170</td>\n",
              "      <td>0.554695</td>\n",
              "      <td>6.284634</td>\n",
              "      <td>68.574901</td>\n",
              "      <td>3.795043</td>\n",
              "      <td>9.549407</td>\n",
              "      <td>408.237154</td>\n",
              "      <td>18.455534</td>\n",
              "      <td>356.674032</td>\n",
              "      <td>12.653063</td>\n",
              "      <td>22.532806</td>\n",
              "    </tr>\n",
              "    <tr>\n",
              "      <th>std</th>\n",
              "      <td>8.601545</td>\n",
              "      <td>23.322453</td>\n",
              "      <td>6.860353</td>\n",
              "      <td>0.253994</td>\n",
              "      <td>0.115878</td>\n",
              "      <td>0.702617</td>\n",
              "      <td>28.148861</td>\n",
              "      <td>2.105710</td>\n",
              "      <td>8.707259</td>\n",
              "      <td>168.537116</td>\n",
              "      <td>2.164946</td>\n",
              "      <td>91.294864</td>\n",
              "      <td>7.141062</td>\n",
              "      <td>9.197104</td>\n",
              "    </tr>\n",
              "    <tr>\n",
              "      <th>min</th>\n",
              "      <td>0.006320</td>\n",
              "      <td>0.000000</td>\n",
              "      <td>0.460000</td>\n",
              "      <td>0.000000</td>\n",
              "      <td>0.385000</td>\n",
              "      <td>3.561000</td>\n",
              "      <td>2.900000</td>\n",
              "      <td>1.129600</td>\n",
              "      <td>1.000000</td>\n",
              "      <td>187.000000</td>\n",
              "      <td>12.600000</td>\n",
              "      <td>0.320000</td>\n",
              "      <td>1.730000</td>\n",
              "      <td>5.000000</td>\n",
              "    </tr>\n",
              "    <tr>\n",
              "      <th>25%</th>\n",
              "      <td>0.082045</td>\n",
              "      <td>0.000000</td>\n",
              "      <td>5.190000</td>\n",
              "      <td>0.000000</td>\n",
              "      <td>0.449000</td>\n",
              "      <td>5.885500</td>\n",
              "      <td>45.025000</td>\n",
              "      <td>2.100175</td>\n",
              "      <td>4.000000</td>\n",
              "      <td>279.000000</td>\n",
              "      <td>17.400000</td>\n",
              "      <td>375.377500</td>\n",
              "      <td>6.950000</td>\n",
              "      <td>17.025000</td>\n",
              "    </tr>\n",
              "    <tr>\n",
              "      <th>50%</th>\n",
              "      <td>0.256510</td>\n",
              "      <td>0.000000</td>\n",
              "      <td>9.690000</td>\n",
              "      <td>0.000000</td>\n",
              "      <td>0.538000</td>\n",
              "      <td>6.208500</td>\n",
              "      <td>77.500000</td>\n",
              "      <td>3.207450</td>\n",
              "      <td>5.000000</td>\n",
              "      <td>330.000000</td>\n",
              "      <td>19.050000</td>\n",
              "      <td>391.440000</td>\n",
              "      <td>11.360000</td>\n",
              "      <td>21.200000</td>\n",
              "    </tr>\n",
              "    <tr>\n",
              "      <th>75%</th>\n",
              "      <td>3.677082</td>\n",
              "      <td>12.500000</td>\n",
              "      <td>18.100000</td>\n",
              "      <td>0.000000</td>\n",
              "      <td>0.624000</td>\n",
              "      <td>6.623500</td>\n",
              "      <td>94.075000</td>\n",
              "      <td>5.188425</td>\n",
              "      <td>24.000000</td>\n",
              "      <td>666.000000</td>\n",
              "      <td>20.200000</td>\n",
              "      <td>396.225000</td>\n",
              "      <td>16.955000</td>\n",
              "      <td>25.000000</td>\n",
              "    </tr>\n",
              "    <tr>\n",
              "      <th>max</th>\n",
              "      <td>88.976200</td>\n",
              "      <td>100.000000</td>\n",
              "      <td>27.740000</td>\n",
              "      <td>1.000000</td>\n",
              "      <td>0.871000</td>\n",
              "      <td>8.780000</td>\n",
              "      <td>100.000000</td>\n",
              "      <td>12.126500</td>\n",
              "      <td>24.000000</td>\n",
              "      <td>711.000000</td>\n",
              "      <td>22.000000</td>\n",
              "      <td>396.900000</td>\n",
              "      <td>37.970000</td>\n",
              "      <td>50.000000</td>\n",
              "    </tr>\n",
              "  </tbody>\n",
              "</table>\n",
              "</div>"
            ],
            "text/plain": [
              "             crim          zn       indus  ...       black       lstat        medv\n",
              "count  506.000000  506.000000  506.000000  ...  506.000000  506.000000  506.000000\n",
              "mean     3.613524   11.363636   11.136779  ...  356.674032   12.653063   22.532806\n",
              "std      8.601545   23.322453    6.860353  ...   91.294864    7.141062    9.197104\n",
              "min      0.006320    0.000000    0.460000  ...    0.320000    1.730000    5.000000\n",
              "25%      0.082045    0.000000    5.190000  ...  375.377500    6.950000   17.025000\n",
              "50%      0.256510    0.000000    9.690000  ...  391.440000   11.360000   21.200000\n",
              "75%      3.677082   12.500000   18.100000  ...  396.225000   16.955000   25.000000\n",
              "max     88.976200  100.000000   27.740000  ...  396.900000   37.970000   50.000000\n",
              "\n",
              "[8 rows x 14 columns]"
            ]
          },
          "metadata": {
            "tags": []
          },
          "execution_count": 153
        }
      ]
    },
    {
      "cell_type": "code",
      "metadata": {
        "id": "9IecjBa0f2y-",
        "colab_type": "code",
        "outputId": "a9f5b2be-eac1-4d73-c907-f71271461f66",
        "colab": {
          "base_uri": "https://localhost:8080/",
          "height": 894
        }
      },
      "source": [
        "plt.figure(figsize=(12,15))\n",
        "sns.regplot(x=\"lstat\", y=\"medv\", color=\"black\", data=df);\n",
        "plt.ylabel(\"median house value\")\n",
        "plt.xlabel(\"percent of households with low socioeconomic status\")"
      ],
      "execution_count": 154,
      "outputs": [
        {
          "output_type": "execute_result",
          "data": {
            "text/plain": [
              "Text(0.5, 0, 'percent of households with low socioeconomic status')"
            ]
          },
          "metadata": {
            "tags": []
          },
          "execution_count": 154
        },
        {
          "output_type": "display_data",
          "data": {
            "image/png": "[encoded data removed]",
            "text/plain": [
              "<Figure size 864x1080 with 1 Axes>"
            ]
          },
          "metadata": {
            "tags": []
          }
        }
      ]
    },
    {
      "cell_type": "code",
      "metadata": {
        "id": "STPnP1P-gsX-",
        "colab_type": "code",
        "outputId": "e79c2736-a614-4515-ed9b-6cc8df488b34",
        "colab": {
          "base_uri": "https://localhost:8080/",
          "height": 894
        }
      },
      "source": [
        "plt.figure(figsize=(12,15))\n",
        "sns.regplot(x=\"rm\", y=\"medv\", color=\"black\", data=df);\n",
        "plt.ylabel(\"median house value\")\n",
        "plt.xlabel(\"average number of rooms per house\")"
      ],
      "execution_count": 155,
      "outputs": [
        {
          "output_type": "execute_result",
          "data": {
            "text/plain": [
              "Text(0.5, 0, 'average number of rooms per house')"
            ]
          },
          "metadata": {
            "tags": []
          },
          "execution_count": 155
        },
        {
          "output_type": "display_data",
          "data": {
            "image/png": "[encoded data removed]",
            "text/plain": [
              "<Figure size 864x1080 with 1 Axes>"
            ]
          },
          "metadata": {
            "tags": []
          }
        }
      ]
    },
    {
      "cell_type": "code",
      "metadata": {
        "id": "vY2uRSPJg5Zs",
        "colab_type": "code",
        "outputId": "53a0e7ec-f3b9-4acb-af94-aa6ac9b969f4",
        "colab": {
          "base_uri": "https://localhost:8080/",
          "height": 894
        }
      },
      "source": [
        "plt.figure(figsize=(12,15))\n",
        "sns.regplot(x=\"age\", y=\"medv\", color=\"black\", data=df);\n",
        "plt.ylabel(\"median house value\")\n",
        "plt.xlabel(\"average age of houses\")"
      ],
      "execution_count": 156,
      "outputs": [
        {
          "output_type": "execute_result",
          "data": {
            "text/plain": [
              "Text(0.5, 0, 'average age of houses')"
            ]
          },
          "metadata": {
            "tags": []
          },
          "execution_count": 156
        },
        {
          "output_type": "display_data",
          "data": {
            "image/png": "[encoded data removed]",
            "text/plain": [
              "<Figure size 864x1080 with 1 Axes>"
            ]
          },
          "metadata": {
            "tags": []
          }
        }
      ]
    },
    {
      "cell_type": "code",
      "metadata": {
        "id": "yUvZPc55hGhf",
        "colab_type": "code",
        "outputId": "1351332c-f696-4e77-871d-938019e61583",
        "colab": {
          "base_uri": "https://localhost:8080/",
          "height": 442
        }
      },
      "source": [
        "mod = ols('medv ~ lstat', data=df).fit()\n",
        "print(mod.summary())"
      ],
      "execution_count": 157,
      "outputs": [
        {
          "output_type": "stream",
          "text": [
            "                            OLS Regression Results                            \n",
            "==============================================================================\n",
            "Dep. Variable:                   medv   R-squared:                       0.544\n",
            "Model:                            OLS   Adj. R-squared:                  0.543\n",
            "Method:                 Least Squares   F-statistic:                     601.6\n",
            "Date:                Wed, 26 Feb 2020   Prob (F-statistic):           5.08e-88\n",
            "Time:                        18:44:19   Log-Likelihood:                -1641.5\n",
            "No. Observations:                 506   AIC:                             3287.\n",
            "Df Residuals:                     504   BIC:                             3295.\n",
            "Df Model:                           1                                         \n",
            "Covariance Type:            nonrobust                                         \n",
            "==============================================================================\n",
            "                 coef    std err          t      P>|t|      [0.025      0.975]\n",
            "------------------------------------------------------------------------------\n",
            "Intercept     34.5538      0.563     61.415      0.000      33.448      35.659\n",
            "lstat         -0.9500      0.039    -24.528      0.000      -1.026      -0.874\n",
            "==============================================================================\n",
            "Omnibus:                      137.043   Durbin-Watson:                   0.892\n",
            "Prob(Omnibus):                  0.000   Jarque-Bera (JB):              291.373\n",
            "Skew:                           1.453   Prob(JB):                     5.36e-64\n",
            "Kurtosis:                       5.319   Cond. No.                         29.7\n",
            "==============================================================================\n",
            "\n",
            "Warnings:\n",
            "[1] Standard Errors assume that the covariance matrix of the errors is correctly specified.\n"
          ],
          "name": "stdout"
        }
      ]
    },
    {
      "cell_type": "code",
      "metadata": {
        "id": "PAiK1dPerthW",
        "colab_type": "code",
        "outputId": "019558bb-360f-4158-e240-93b910d15652",
        "colab": {
          "base_uri": "https://localhost:8080/",
          "height": 442
        }
      },
      "source": [
        "mod = ols('medv ~ rm', data=df).fit()\n",
        "print(mod.summary())"
      ],
      "execution_count": 158,
      "outputs": [
        {
          "output_type": "stream",
          "text": [
            "                            OLS Regression Results                            \n",
            "==============================================================================\n",
            "Dep. Variable:                   medv   R-squared:                       0.484\n",
            "Model:                            OLS   Adj. R-squared:                  0.483\n",
            "Method:                 Least Squares   F-statistic:                     471.8\n",
            "Date:                Wed, 26 Feb 2020   Prob (F-statistic):           2.49e-74\n",
            "Time:                        18:44:19   Log-Likelihood:                -1673.1\n",
            "No. Observations:                 506   AIC:                             3350.\n",
            "Df Residuals:                     504   BIC:                             3359.\n",
            "Df Model:                           1                                         \n",
            "Covariance Type:            nonrobust                                         \n",
            "==============================================================================\n",
            "                 coef    std err          t      P>|t|      [0.025      0.975]\n",
            "------------------------------------------------------------------------------\n",
            "Intercept    -34.6706      2.650    -13.084      0.000     -39.877     -29.465\n",
            "rm             9.1021      0.419     21.722      0.000       8.279       9.925\n",
            "==============================================================================\n",
            "Omnibus:                      102.585   Durbin-Watson:                   0.684\n",
            "Prob(Omnibus):                  0.000   Jarque-Bera (JB):              612.449\n",
            "Skew:                           0.726   Prob(JB):                    1.02e-133\n",
            "Kurtosis:                       8.190   Cond. No.                         58.4\n",
            "==============================================================================\n",
            "\n",
            "Warnings:\n",
            "[1] Standard Errors assume that the covariance matrix of the errors is correctly specified.\n"
          ],
          "name": "stdout"
        }
      ]
    },
    {
      "cell_type": "code",
      "metadata": {
        "id": "In0S5wY0rx6t",
        "colab_type": "code",
        "outputId": "b162d174-8700-4856-a2da-78cd5a5c0cfe",
        "colab": {
          "base_uri": "https://localhost:8080/",
          "height": 459
        }
      },
      "source": [
        "mod = ols('medv ~ age', data=df).fit()\n",
        "print(mod.summary())\n",
        "print(mod.df_resid)"
      ],
      "execution_count": 159,
      "outputs": [
        {
          "output_type": "stream",
          "text": [
            "                            OLS Regression Results                            \n",
            "==============================================================================\n",
            "Dep. Variable:                   medv   R-squared:                       0.142\n",
            "Model:                            OLS   Adj. R-squared:                  0.140\n",
            "Method:                 Least Squares   F-statistic:                     83.48\n",
            "Date:                Wed, 26 Feb 2020   Prob (F-statistic):           1.57e-18\n",
            "Time:                        18:44:19   Log-Likelihood:                -1801.5\n",
            "No. Observations:                 506   AIC:                             3607.\n",
            "Df Residuals:                     504   BIC:                             3615.\n",
            "Df Model:                           1                                         \n",
            "Covariance Type:            nonrobust                                         \n",
            "==============================================================================\n",
            "                 coef    std err          t      P>|t|      [0.025      0.975]\n",
            "------------------------------------------------------------------------------\n",
            "Intercept     30.9787      0.999     31.006      0.000      29.016      32.942\n",
            "age           -0.1232      0.013     -9.137      0.000      -0.150      -0.097\n",
            "==============================================================================\n",
            "Omnibus:                      170.034   Durbin-Watson:                   0.613\n",
            "Prob(Omnibus):                  0.000   Jarque-Bera (JB):              456.983\n",
            "Skew:                           1.671   Prob(JB):                    5.85e-100\n",
            "Kurtosis:                       6.240   Cond. No.                         195.\n",
            "==============================================================================\n",
            "\n",
            "Warnings:\n",
            "[1] Standard Errors assume that the covariance matrix of the errors is correctly specified.\n",
            "504.0\n"
          ],
          "name": "stdout"
        }
      ]
    },
    {
      "cell_type": "markdown",
      "metadata": {
        "id": "HrhyIGuesHuN",
        "colab_type": "text"
      },
      "source": [
        "Looking at the regression results for median house value and percentage of house holds with low socioeconomic status (medv ~ lstat) we can see that the R-Value indicates that about 54% of variability in median house value can be explained by the percentage of house holds with low socioeconomic status. The p-value is very low less than 0.05 which indicates a strong correlation between lstat and medv. The negative lstat coefficient of -0.95 implies that the relationship is negative, in general, the higher the percentage of house holds with low socioeconomic status the lower the median house value.\n",
        "\n",
        "Looking at the regression results for median house value and average rooms per house (medv ~ rm) we can see that the R-Value indicates that about 48% of variability in median house value can be explained by the average rooms per house. The p-value is very low, less than 0.05 which indicates a strong correlation between rm and medv. The positive rm coefficient of 9.1 implies that the relationship is positive, in general, the higher average rooms per house the higher the median house value.\n",
        "\n",
        "Looking at the regression results for median house value and average age of houses (medv ~ age) we can see that the R-Value indicates that about 14% of variability in median house value can be explained by the average age of houses. The p-value is very low, less than 0.05 which indicates a strong correlation between median house value and average age of houses. The negative age coefficient of -0.12 implies that the relationship is weakly negative, in general, the higher the average age of houses the lower the median house value. \n",
        "\n",
        "\n",
        "The F-Statistic in each of the tables is much greater than 1 indicating that there is a relationship between medv/lstat, medv/rm and medv/age. \n"
      ]
    },
    {
      "cell_type": "code",
      "metadata": {
        "id": "h27j8Fd8r1y8",
        "colab_type": "code",
        "outputId": "5b9751d5-4d8b-493e-d9dc-6ea5f50b346d",
        "colab": {
          "base_uri": "https://localhost:8080/",
          "height": 68
        }
      },
      "source": [
        "mod = ols('medv ~ lstat', data=df).fit()\n",
        "print(mod.conf_int())"
      ],
      "execution_count": 160,
      "outputs": [
        {
          "output_type": "stream",
          "text": [
            "                   0          1\n",
            "Intercept  33.448457  35.659225\n",
            "lstat      -1.026148  -0.873951\n"
          ],
          "name": "stdout"
        }
      ]
    },
    {
      "cell_type": "code",
      "metadata": {
        "id": "2lnFNt8Dr90H",
        "colab_type": "code",
        "outputId": "3bb2f23e-4153-4cdc-c2a1-9e8fea0199fd",
        "colab": {
          "base_uri": "https://localhost:8080/",
          "height": 68
        }
      },
      "source": [
        "mod = ols('medv ~ rm', data=df).fit()\n",
        "print(mod.conf_int())"
      ],
      "execution_count": 161,
      "outputs": [
        {
          "output_type": "stream",
          "text": [
            "                   0          1\n",
            "Intercept -39.876641 -29.464601\n",
            "rm          8.278855   9.925363\n"
          ],
          "name": "stdout"
        }
      ]
    },
    {
      "cell_type": "code",
      "metadata": {
        "id": "LdxhibP7sBpU",
        "colab_type": "code",
        "outputId": "1de69627-5988-471e-b0ed-1d352f980993",
        "colab": {
          "base_uri": "https://localhost:8080/",
          "height": 68
        }
      },
      "source": [
        "mod = ols('medv ~ age', data=df).fit()\n",
        "print(mod.conf_int())"
      ],
      "execution_count": 162,
      "outputs": [
        {
          "output_type": "stream",
          "text": [
            "                   0          1\n",
            "Intercept  29.015752  32.941604\n",
            "age        -0.149647  -0.096679\n"
          ],
          "name": "stdout"
        }
      ]
    },
    {
      "cell_type": "markdown",
      "metadata": {
        "id": "mpG7gpwnsIcu",
        "colab_type": "text"
      },
      "source": [
        "These are the confidence intervals for coefficient estimates present in the regression results of the previous section. These represent the range in which the coefficients are likely to fall with a 95% confidence. 1 is 0.975, or the upper limit of this range and 0 is 0.025, or the lower limit of this range. We can say that we are 95% confident that repeated samples for median house value and percentage of low income households (medv~lstat) will produce a intercept coefficient between 33.44 and 35.65 and that the lstat coefficient will be between -1.02 and -0.87.\n",
        "\n",
        "The second table shows that repeated samples for median house value and average number of rooms (medv~rm) will produce a intercept coefficient between -39.87 and -29.46 and a rm coefficient between 8.27 and 9.92 with a 95% confidence. \n",
        "\n",
        "The third table shows that repeated samples for median house value and average age of house (medv~age) will produce a intercept coefficient between 29.01 and 32.94 and a age coefficient between -0.14 and -0.09 with a 95% confidence. \n",
        "\n",
        "The uncertainty in confidence intervals arises form sampling, the greater the sample taken from the entire population the more the values will converge. \n",
        "\n",
        "\n",
        "\n",
        "\n"
      ]
    },
    {
      "cell_type": "code",
      "metadata": {
        "id": "nJYVkdk58nQe",
        "colab_type": "code",
        "outputId": "49e6e8bd-0ba1-47a1-9d7e-83d7cda34e4f",
        "colab": {
          "base_uri": "https://localhost:8080/",
          "height": 142
        }
      },
      "source": [
        "lm = ols('medv ~ lstat', df).fit()\n",
        "new = pd.DataFrame([5, 10, 15], columns=['lstat'])\n",
        "lm.predict(new)\n",
        "predictions = lm.get_prediction(new)\n",
        "predictions.summary_frame(alpha=0.05)"
      ],
      "execution_count": 163,
      "outputs": [
        {
          "output_type": "execute_result",
          "data": {
            "text/html": [
              "<div>\n",
              "<style scoped>\n",
              "    .dataframe tbody tr th:only-of-type {\n",
              "        vertical-align: middle;\n",
              "    }\n",
              "\n",
              "    .dataframe tbody tr th {\n",
              "        vertical-align: top;\n",
              "    }\n",
              "\n",
              "    .dataframe thead th {\n",
              "        text-align: right;\n",
              "    }\n",
              "</style>\n",
              "<table border=\"1\" class=\"dataframe\">\n",
              "  <thead>\n",
              "    <tr style=\"text-align: right;\">\n",
              "      <th></th>\n",
              "      <th>mean</th>\n",
              "      <th>mean_se</th>\n",
              "      <th>mean_ci_lower</th>\n",
              "      <th>mean_ci_upper</th>\n",
              "      <th>obs_ci_lower</th>\n",
              "      <th>obs_ci_upper</th>\n",
              "    </tr>\n",
              "  </thead>\n",
              "  <tbody>\n",
              "    <tr>\n",
              "      <th>0</th>\n",
              "      <td>29.803594</td>\n",
              "      <td>0.405247</td>\n",
              "      <td>29.007412</td>\n",
              "      <td>30.599776</td>\n",
              "      <td>17.565675</td>\n",
              "      <td>42.041513</td>\n",
              "    </tr>\n",
              "    <tr>\n",
              "      <th>1</th>\n",
              "      <td>25.053347</td>\n",
              "      <td>0.294814</td>\n",
              "      <td>24.474132</td>\n",
              "      <td>25.632563</td>\n",
              "      <td>12.827626</td>\n",
              "      <td>37.279068</td>\n",
              "    </tr>\n",
              "    <tr>\n",
              "      <th>2</th>\n",
              "      <td>20.303101</td>\n",
              "      <td>0.290893</td>\n",
              "      <td>19.731588</td>\n",
              "      <td>20.874613</td>\n",
              "      <td>8.077742</td>\n",
              "      <td>32.528459</td>\n",
              "    </tr>\n",
              "  </tbody>\n",
              "</table>\n",
              "</div>"
            ],
            "text/plain": [
              "        mean   mean_se  ...  obs_ci_lower  obs_ci_upper\n",
              "0  29.803594  0.405247  ...     17.565675     42.041513\n",
              "1  25.053347  0.294814  ...     12.827626     37.279068\n",
              "2  20.303101  0.290893  ...      8.077742     32.528459\n",
              "\n",
              "[3 rows x 6 columns]"
            ]
          },
          "metadata": {
            "tags": []
          },
          "execution_count": 163
        }
      ]
    },
    {
      "cell_type": "code",
      "metadata": {
        "id": "kDIPyLrYBvvN",
        "colab_type": "code",
        "outputId": "ee7bc694-8b32-48d0-8bb1-bdf8cdd684ff",
        "colab": {
          "base_uri": "https://localhost:8080/",
          "height": 142
        }
      },
      "source": [
        "lm = ols('medv ~ rm', df).fit()\n",
        "new = pd.DataFrame([5, 6.5, 8], columns=['rm'])\n",
        "lm.predict(new)\n",
        "predictions = lm.get_prediction(new)\n",
        "predictions.summary_frame(alpha=0.05)"
      ],
      "execution_count": 164,
      "outputs": [
        {
          "output_type": "execute_result",
          "data": {
            "text/html": [
              "<div>\n",
              "<style scoped>\n",
              "    .dataframe tbody tr th:only-of-type {\n",
              "        vertical-align: middle;\n",
              "    }\n",
              "\n",
              "    .dataframe tbody tr th {\n",
              "        vertical-align: top;\n",
              "    }\n",
              "\n",
              "    .dataframe thead th {\n",
              "        text-align: right;\n",
              "    }\n",
              "</style>\n",
              "<table border=\"1\" class=\"dataframe\">\n",
              "  <thead>\n",
              "    <tr style=\"text-align: right;\">\n",
              "      <th></th>\n",
              "      <th>mean</th>\n",
              "      <th>mean_se</th>\n",
              "      <th>mean_ci_lower</th>\n",
              "      <th>mean_ci_upper</th>\n",
              "      <th>obs_ci_lower</th>\n",
              "      <th>obs_ci_upper</th>\n",
              "    </tr>\n",
              "  </thead>\n",
              "  <tbody>\n",
              "    <tr>\n",
              "      <th>0</th>\n",
              "      <td>10.839924</td>\n",
              "      <td>0.613410</td>\n",
              "      <td>9.634769</td>\n",
              "      <td>12.045079</td>\n",
              "      <td>-2.214474</td>\n",
              "      <td>23.894322</td>\n",
              "    </tr>\n",
              "    <tr>\n",
              "      <th>1</th>\n",
              "      <td>24.493088</td>\n",
              "      <td>0.307657</td>\n",
              "      <td>23.888639</td>\n",
              "      <td>25.097536</td>\n",
              "      <td>11.480391</td>\n",
              "      <td>37.505784</td>\n",
              "    </tr>\n",
              "    <tr>\n",
              "      <th>2</th>\n",
              "      <td>38.146251</td>\n",
              "      <td>0.776633</td>\n",
              "      <td>36.620414</td>\n",
              "      <td>39.672088</td>\n",
              "      <td>25.058353</td>\n",
              "      <td>51.234149</td>\n",
              "    </tr>\n",
              "  </tbody>\n",
              "</table>\n",
              "</div>"
            ],
            "text/plain": [
              "        mean   mean_se  ...  obs_ci_lower  obs_ci_upper\n",
              "0  10.839924  0.613410  ...     -2.214474     23.894322\n",
              "1  24.493088  0.307657  ...     11.480391     37.505784\n",
              "2  38.146251  0.776633  ...     25.058353     51.234149\n",
              "\n",
              "[3 rows x 6 columns]"
            ]
          },
          "metadata": {
            "tags": []
          },
          "execution_count": 164
        }
      ]
    },
    {
      "cell_type": "code",
      "metadata": {
        "id": "FkzpGylkB3HV",
        "colab_type": "code",
        "outputId": "3f770e65-2cd0-43dc-b60d-d7174808bcb0",
        "colab": {
          "base_uri": "https://localhost:8080/",
          "height": 142
        }
      },
      "source": [
        "lm = ols('medv ~ age', df).fit()\n",
        "new = pd.DataFrame([25, 50 , 75], columns=['age'])\n",
        "lm.predict(new)\n",
        "predictions = lm.get_prediction(new)\n",
        "predictions.summary_frame(alpha=0.05)"
      ],
      "execution_count": 165,
      "outputs": [
        {
          "output_type": "execute_result",
          "data": {
            "text/html": [
              "<div>\n",
              "<style scoped>\n",
              "    .dataframe tbody tr th:only-of-type {\n",
              "        vertical-align: middle;\n",
              "    }\n",
              "\n",
              "    .dataframe tbody tr th {\n",
              "        vertical-align: top;\n",
              "    }\n",
              "\n",
              "    .dataframe thead th {\n",
              "        text-align: right;\n",
              "    }\n",
              "</style>\n",
              "<table border=\"1\" class=\"dataframe\">\n",
              "  <thead>\n",
              "    <tr style=\"text-align: right;\">\n",
              "      <th></th>\n",
              "      <th>mean</th>\n",
              "      <th>mean_se</th>\n",
              "      <th>mean_ci_lower</th>\n",
              "      <th>mean_ci_upper</th>\n",
              "      <th>obs_ci_lower</th>\n",
              "      <th>obs_ci_upper</th>\n",
              "    </tr>\n",
              "  </thead>\n",
              "  <tbody>\n",
              "    <tr>\n",
              "      <th>0</th>\n",
              "      <td>27.899610</td>\n",
              "      <td>0.699094</td>\n",
              "      <td>26.526112</td>\n",
              "      <td>29.273107</td>\n",
              "      <td>11.090368</td>\n",
              "      <td>44.708852</td>\n",
              "    </tr>\n",
              "    <tr>\n",
              "      <th>1</th>\n",
              "      <td>24.820542</td>\n",
              "      <td>0.454307</td>\n",
              "      <td>23.927973</td>\n",
              "      <td>25.713110</td>\n",
              "      <td>8.043748</td>\n",
              "      <td>41.597335</td>\n",
              "    </tr>\n",
              "    <tr>\n",
              "      <th>2</th>\n",
              "      <td>21.741474</td>\n",
              "      <td>0.388844</td>\n",
              "      <td>20.977518</td>\n",
              "      <td>22.505429</td>\n",
              "      <td>4.971031</td>\n",
              "      <td>38.511917</td>\n",
              "    </tr>\n",
              "  </tbody>\n",
              "</table>\n",
              "</div>"
            ],
            "text/plain": [
              "        mean   mean_se  ...  obs_ci_lower  obs_ci_upper\n",
              "0  27.899610  0.699094  ...     11.090368     44.708852\n",
              "1  24.820542  0.454307  ...      8.043748     41.597335\n",
              "2  21.741474  0.388844  ...      4.971031     38.511917\n",
              "\n",
              "[3 rows x 6 columns]"
            ]
          },
          "metadata": {
            "tags": []
          },
          "execution_count": 165
        }
      ]
    },
    {
      "cell_type": "markdown",
      "metadata": {
        "id": "FRYcw6JVxTKu",
        "colab_type": "text"
      },
      "source": [
        "These tables give prediction interval for the values of median house value based on provided data points. The first table looks at the median house value for 3 different values of lstat (percentage of house holds with low socio-economic status).  We can see the mean for the lstat of 5 is a median house value of 29.8 with lower bound of 17.5 and upperbound of 42.04. The mean value decreases as the value for lstat increases (10,15) suggesting a negative relationship. The lower and upperbounds are quite large for all of the tables which suggest a large variability around the predicted mean\n",
        "\n",
        "The second table looks at the median house value for 3 different values of rm (average number of rooms). We can see the mean for rm of 5 is the median house value of 10.83 with a lowerbound of -2.21 and upperbound of 23.89. The mean value increases as the value for rm increases (5,6.5,8) suggesting a positive relationship. A negative lowerbound for the house value could also be the result of large variability around the perdicted mean. \n",
        "\n",
        "The third tables looks at the median house value for 3 different values of age (average age of house). We can see that the mean for age of 25 is the median house value of 27.89 with lowerbound of 11.09 and upperbound of 44.70. The mean value decreases as the value of age increases (50,70) suggesting a negative relationship. "
      ]
    },
    {
      "cell_type": "code",
      "metadata": {
        "id": "nbRSi9fvsQOu",
        "colab_type": "code",
        "outputId": "9fe1f598-bfb8-4f16-d065-b071e8a008cf",
        "colab": {
          "base_uri": "https://localhost:8080/",
          "height": 476
        }
      },
      "source": [
        "mod = ols('medv ~ lstat+rm+age', data=df).fit()\n",
        "print(mod.summary())"
      ],
      "execution_count": 166,
      "outputs": [
        {
          "output_type": "stream",
          "text": [
            "                            OLS Regression Results                            \n",
            "==============================================================================\n",
            "Dep. Variable:                   medv   R-squared:                       0.639\n",
            "Model:                            OLS   Adj. R-squared:                  0.637\n",
            "Method:                 Least Squares   F-statistic:                     296.2\n",
            "Date:                Wed, 26 Feb 2020   Prob (F-statistic):          1.20e-110\n",
            "Time:                        18:44:19   Log-Likelihood:                -1582.4\n",
            "No. Observations:                 506   AIC:                             3173.\n",
            "Df Residuals:                     502   BIC:                             3190.\n",
            "Df Model:                           3                                         \n",
            "Covariance Type:            nonrobust                                         \n",
            "==============================================================================\n",
            "                 coef    std err          t      P>|t|      [0.025      0.975]\n",
            "------------------------------------------------------------------------------\n",
            "Intercept     -1.1753      3.182     -0.369      0.712      -7.427       5.076\n",
            "lstat         -0.6685      0.054    -12.298      0.000      -0.775      -0.562\n",
            "rm             5.0191      0.454     11.048      0.000       4.127       5.912\n",
            "age            0.0091      0.011      0.811      0.418      -0.013       0.031\n",
            "==============================================================================\n",
            "Omnibus:                      138.819   Durbin-Watson:                   0.851\n",
            "Prob(Omnibus):                  0.000   Jarque-Bera (JB):              415.436\n",
            "Skew:                           1.296   Prob(JB):                     6.15e-91\n",
            "Kurtosis:                       6.603   Cond. No.                         985.\n",
            "==============================================================================\n",
            "\n",
            "Warnings:\n",
            "[1] Standard Errors assume that the covariance matrix of the errors is correctly specified.\n"
          ],
          "name": "stdout"
        }
      ]
    },
    {
      "cell_type": "markdown",
      "metadata": {
        "id": "r2kokrzGp3ZZ",
        "colab_type": "text"
      },
      "source": [
        "Looking at the regression results for median house value againts percentage of house holds with low socio-economic status, average number of rooms and  average age of houses (medv ~ lstat+rm+age) we can see that the R-Value indicates that about 63% of variability in median house value can be explained by the afformentioned values (lstat+rm+age). The pvalue for lstat and rm is very low indicating a statistical significance and strong correlation between the median house value and the afformentioned values. On the other hand the p value of age is very high indicating a low statistical significance and weak correlation between age and median house value. The positive coefficients of rm and age show a positive relationship for age and rm meaning that on average the higher these values are the higher the median house value. The negative coefficient of lstat show that on average the higher this value is the lower the median house value. \n",
        "The F-statistic is greater than 1 indicating a relationship between medv/lstat,rm and age. "
      ]
    },
    {
      "cell_type": "code",
      "metadata": {
        "id": "b4wz4ANJtoOL",
        "colab_type": "code",
        "outputId": "216208b9-0b05-45c8-accb-4ed9d198d557",
        "colab": {
          "base_uri": "https://localhost:8080/",
          "height": 680
        }
      },
      "source": [
        "mod = ols('medv ~ crim+zn+indus+chas+nox+rm+age+dis+rad+tax+ptratio+black+lstat', data=df).fit()\n",
        "print(mod.summary())"
      ],
      "execution_count": 167,
      "outputs": [
        {
          "output_type": "stream",
          "text": [
            "                            OLS Regression Results                            \n",
            "==============================================================================\n",
            "Dep. Variable:                   medv   R-squared:                       0.741\n",
            "Model:                            OLS   Adj. R-squared:                  0.734\n",
            "Method:                 Least Squares   F-statistic:                     108.1\n",
            "Date:                Wed, 26 Feb 2020   Prob (F-statistic):          6.72e-135\n",
            "Time:                        18:44:19   Log-Likelihood:                -1498.8\n",
            "No. Observations:                 506   AIC:                             3026.\n",
            "Df Residuals:                     492   BIC:                             3085.\n",
            "Df Model:                          13                                         \n",
            "Covariance Type:            nonrobust                                         \n",
            "==============================================================================\n",
            "                 coef    std err          t      P>|t|      [0.025      0.975]\n",
            "------------------------------------------------------------------------------\n",
            "Intercept     36.4595      5.103      7.144      0.000      26.432      46.487\n",
            "crim          -0.1080      0.033     -3.287      0.001      -0.173      -0.043\n",
            "zn             0.0464      0.014      3.382      0.001       0.019       0.073\n",
            "indus          0.0206      0.061      0.334      0.738      -0.100       0.141\n",
            "chas           2.6867      0.862      3.118      0.002       0.994       4.380\n",
            "nox          -17.7666      3.820     -4.651      0.000     -25.272     -10.262\n",
            "rm             3.8099      0.418      9.116      0.000       2.989       4.631\n",
            "age            0.0007      0.013      0.052      0.958      -0.025       0.027\n",
            "dis           -1.4756      0.199     -7.398      0.000      -1.867      -1.084\n",
            "rad            0.3060      0.066      4.613      0.000       0.176       0.436\n",
            "tax           -0.0123      0.004     -3.280      0.001      -0.020      -0.005\n",
            "ptratio       -0.9527      0.131     -7.283      0.000      -1.210      -0.696\n",
            "black          0.0093      0.003      3.467      0.001       0.004       0.015\n",
            "lstat         -0.5248      0.051    -10.347      0.000      -0.624      -0.425\n",
            "==============================================================================\n",
            "Omnibus:                      178.041   Durbin-Watson:                   1.078\n",
            "Prob(Omnibus):                  0.000   Jarque-Bera (JB):              783.126\n",
            "Skew:                           1.521   Prob(JB):                    8.84e-171\n",
            "Kurtosis:                       8.281   Cond. No.                     1.51e+04\n",
            "==============================================================================\n",
            "\n",
            "Warnings:\n",
            "[1] Standard Errors assume that the covariance matrix of the errors is correctly specified.\n",
            "[2] The condition number is large, 1.51e+04. This might indicate that there are\n",
            "strong multicollinearity or other numerical problems.\n"
          ],
          "name": "stdout"
        }
      ]
    },
    {
      "cell_type": "markdown",
      "metadata": {
        "id": "IhYh8OiaG-9Z",
        "colab_type": "text"
      },
      "source": [
        "Looking at the regression results for median house value againts againts all other values (medv ~ crim+zn+indus+chas+nox+rm+age+dis+rad+tax+ptratio+black+lstat) we can see that the R-Value indicates that about 74% of variability in median house value can be explained by the afformentioned values. The p value is less than 0.05 for crim,zn,chas,nox,rm,dis,rad, tax, ptratio, black and lstat suggesting that these values are statistically significant and show a strong correlation between median house value and the afformentioned values. On the other hands the p values from indus and age are very high suggesting they are not statistically significant and have a weak correlation with median house value. The negative coefficients show that the relationship is negative for crim,nox,dis,tax,ptratio and lstat meaning that the higher these values are the lower the median house value. The positive coefficients show that the relationship is positive for zn,indus,chas,rm, age,rad,black meaning that the higher these values are the higher the median house value. \n",
        "The f-statistic is much greater than 1 suggesting that there is a relationship between medv and all of the afformentioned values. "
      ]
    },
    {
      "cell_type": "code",
      "metadata": {
        "id": "qItvNzcgtl4R",
        "colab_type": "code",
        "outputId": "69af72a6-71a3-4754-ad65-4c7fe0dfd049",
        "colab": {
          "base_uri": "https://localhost:8080/",
          "height": 873
        }
      },
      "source": [
        "f = plt.figure(figsize=(12,15))\n",
        "plt.matshow(df.corr(), fignum=f.number)\n",
        "plt.xticks(range(df.shape[1]), df.columns, fontsize=14, rotation=45)\n",
        "plt.yticks(range(df.shape[1]), df.columns, fontsize=14)\n",
        "cb = plt.colorbar()\n",
        "cb.ax.tick_params(labelsize=14)\n",
        "plt.title('Correlation Matrix', fontsize=16);"
      ],
      "execution_count": 168,
      "outputs": [
        {
          "output_type": "display_data",
          "data": {
            "image/png": "[encoded data removed]",
            "text/plain": [
              "<Figure size 864x1080 with 2 Axes>"
            ]
          },
          "metadata": {
            "tags": []
          }
        }
      ]
    },
    {
      "cell_type": "markdown",
      "metadata": {
        "id": "brxmVL8kceix",
        "colab_type": "text"
      },
      "source": [
        "This correlation matrix shows the correlation between the coefficients of different values. A correlation of 1 being a perfect positive correlation, 0 indicates no correlation and -1 indicates perfect negative correlation. A color coded matrix allows us to quickly judge a correlation between any two variables. From this matrix we can see that dis/indus, dis/nox and dis/age are strongly negatively correlatated. While nox/indus, medv/rm and age/nox have a strong positive correlation. \n",
        " "
      ]
    },
    {
      "cell_type": "code",
      "metadata": {
        "id": "6sLBU-iBoxCk",
        "colab_type": "code",
        "outputId": "40f1c4d6-fbd0-4927-c642-63a1b7665946",
        "colab": {
          "base_uri": "https://localhost:8080/",
          "height": 170
        }
      },
      "source": [
        "lstat = [5,10,15]\n",
        "rm = [5,6.5,8]\n",
        "x = np.array([(x, y) for y in rm for x in lstat])\n",
        "x.shape\n",
        "print(x)"
      ],
      "execution_count": 169,
      "outputs": [
        {
          "output_type": "stream",
          "text": [
            "[[ 5.   5. ]\n",
            " [10.   5. ]\n",
            " [15.   5. ]\n",
            " [ 5.   6.5]\n",
            " [10.   6.5]\n",
            " [15.   6.5]\n",
            " [ 5.   8. ]\n",
            " [10.   8. ]\n",
            " [15.   8. ]]\n"
          ],
          "name": "stdout"
        }
      ]
    },
    {
      "cell_type": "code",
      "metadata": {
        "id": "DQeu97oTrtfu",
        "colab_type": "code",
        "outputId": "fe2db4e7-fb8d-4884-ff2c-c5b55361bed3",
        "colab": {
          "base_uri": "https://localhost:8080/",
          "height": 328
        }
      },
      "source": [
        "lm = ols('medv ~ lstat+rm', df).fit()\n",
        "new = pd.DataFrame(x, columns=['lstat','rm'])\n",
        "lm.predict(new)\n",
        "predictions = lm.get_prediction(new)\n",
        "predictions.summary_frame(alpha=0.05)"
      ],
      "execution_count": 170,
      "outputs": [
        {
          "output_type": "execute_result",
          "data": {
            "text/html": [
              "<div>\n",
              "<style scoped>\n",
              "    .dataframe tbody tr th:only-of-type {\n",
              "        vertical-align: middle;\n",
              "    }\n",
              "\n",
              "    .dataframe tbody tr th {\n",
              "        vertical-align: top;\n",
              "    }\n",
              "\n",
              "    .dataframe thead th {\n",
              "        text-align: right;\n",
              "    }\n",
              "</style>\n",
              "<table border=\"1\" class=\"dataframe\">\n",
              "  <thead>\n",
              "    <tr style=\"text-align: right;\">\n",
              "      <th></th>\n",
              "      <th>mean</th>\n",
              "      <th>mean_se</th>\n",
              "      <th>mean_ci_lower</th>\n",
              "      <th>mean_ci_upper</th>\n",
              "      <th>obs_ci_lower</th>\n",
              "      <th>obs_ci_upper</th>\n",
              "    </tr>\n",
              "  </thead>\n",
              "  <tbody>\n",
              "    <tr>\n",
              "      <th>0</th>\n",
              "      <td>20.903875</td>\n",
              "      <td>0.856315</td>\n",
              "      <td>19.221481</td>\n",
              "      <td>22.586269</td>\n",
              "      <td>9.889729</td>\n",
              "      <td>31.918021</td>\n",
              "    </tr>\n",
              "    <tr>\n",
              "      <th>1</th>\n",
              "      <td>17.692084</td>\n",
              "      <td>0.693873</td>\n",
              "      <td>16.328837</td>\n",
              "      <td>19.055330</td>\n",
              "      <td>6.722152</td>\n",
              "      <td>28.662016</td>\n",
              "    </tr>\n",
              "    <tr>\n",
              "      <th>2</th>\n",
              "      <td>14.480292</td>\n",
              "      <td>0.570322</td>\n",
              "      <td>13.359785</td>\n",
              "      <td>15.600799</td>\n",
              "      <td>3.537875</td>\n",
              "      <td>25.422709</td>\n",
              "    </tr>\n",
              "    <tr>\n",
              "      <th>3</th>\n",
              "      <td>28.546057</td>\n",
              "      <td>0.377499</td>\n",
              "      <td>27.804387</td>\n",
              "      <td>29.287727</td>\n",
              "      <td>17.635923</td>\n",
              "      <td>39.456192</td>\n",
              "    </tr>\n",
              "    <tr>\n",
              "      <th>4</th>\n",
              "      <td>25.334266</td>\n",
              "      <td>0.263915</td>\n",
              "      <td>24.815754</td>\n",
              "      <td>25.852777</td>\n",
              "      <td>14.437027</td>\n",
              "      <td>36.231505</td>\n",
              "    </tr>\n",
              "    <tr>\n",
              "      <th>5</th>\n",
              "      <td>22.122474</td>\n",
              "      <td>0.304004</td>\n",
              "      <td>21.525200</td>\n",
              "      <td>22.719748</td>\n",
              "      <td>11.221204</td>\n",
              "      <td>33.023745</td>\n",
              "    </tr>\n",
              "    <tr>\n",
              "      <th>6</th>\n",
              "      <td>36.188239</td>\n",
              "      <td>0.663860</td>\n",
              "      <td>34.883959</td>\n",
              "      <td>37.492519</td>\n",
              "      <td>25.225479</td>\n",
              "      <td>47.150999</td>\n",
              "    </tr>\n",
              "    <tr>\n",
              "      <th>7</th>\n",
              "      <td>32.976448</td>\n",
              "      <td>0.739470</td>\n",
              "      <td>31.523618</td>\n",
              "      <td>34.429277</td>\n",
              "      <td>21.995024</td>\n",
              "      <td>43.957872</td>\n",
              "    </tr>\n",
              "    <tr>\n",
              "      <th>8</th>\n",
              "      <td>29.764656</td>\n",
              "      <td>0.865184</td>\n",
              "      <td>28.064837</td>\n",
              "      <td>31.464475</td>\n",
              "      <td>18.747835</td>\n",
              "      <td>40.781477</td>\n",
              "    </tr>\n",
              "  </tbody>\n",
              "</table>\n",
              "</div>"
            ],
            "text/plain": [
              "        mean   mean_se  ...  obs_ci_lower  obs_ci_upper\n",
              "0  20.903875  0.856315  ...      9.889729     31.918021\n",
              "1  17.692084  0.693873  ...      6.722152     28.662016\n",
              "2  14.480292  0.570322  ...      3.537875     25.422709\n",
              "3  28.546057  0.377499  ...     17.635923     39.456192\n",
              "4  25.334266  0.263915  ...     14.437027     36.231505\n",
              "5  22.122474  0.304004  ...     11.221204     33.023745\n",
              "6  36.188239  0.663860  ...     25.225479     47.150999\n",
              "7  32.976448  0.739470  ...     21.995024     43.957872\n",
              "8  29.764656  0.865184  ...     18.747835     40.781477\n",
              "\n",
              "[9 rows x 6 columns]"
            ]
          },
          "metadata": {
            "tags": []
          },
          "execution_count": 170
        }
      ]
    },
    {
      "cell_type": "markdown",
      "metadata": {
        "id": "_NFock_Du1kl",
        "colab_type": "text"
      },
      "source": [
        "The table give prediction for the values of median house value based on provided data points for lstat and rm. (percentage of households with low socioeconomic status and average number of rooms) The table looks at the median house value for 9 different combinations of values for lstat and rm given in the previous line. From this we can gauge the relationship between these two values and their effect on the median house value. Examining lstat of 5 for rm of 5, 6.5 and 8 we can see from rows 0, 3, 6 that the mean medv rises suggesting a positive relationship as the number of rooms increases the mean medv increases. \n",
        "Examining lstat of 10 for rm of 5, 6.5 and 8 we can see from rows 1, 4, 7 that medv rises, also suggesting a positive relationship as the number of rooms increases the mean medv increase. The means are however lower than means with lstat of 5 for all values of rm suggesting a negative relationship as lstat increases the mean medv decreases. \n",
        "Examining lstat of 15 for rm of 5,6.5 and 8 we can see from rows 2, 5, 8 that medv rises, also suggesting a positive relationship as the number of rooms increases the mean medv increases. The means are also lower than means with lstat of 5 and 10 for all values of rm suggesting a negative relationship."
      ]
    },
    {
      "cell_type": "markdown",
      "metadata": {
        "id": "gQ4lC6Gl9GOZ",
        "colab_type": "text"
      },
      "source": [
        "**Assignment 3**"
      ]
    },
    {
      "cell_type": "code",
      "metadata": {
        "id": "CZNrZyt_Z2tv",
        "colab_type": "code",
        "outputId": "99c0db8a-8ed5-446f-c57e-ec77648c6d08",
        "colab": {
          "base_uri": "https://localhost:8080/",
          "height": 510
        }
      },
      "source": [
        "mod1 = ols('medv ~ lstat+rm+nox+dis+ptratio', df).fit()\n",
        "print(mod1.summary())"
      ],
      "execution_count": 171,
      "outputs": [
        {
          "output_type": "stream",
          "text": [
            "                            OLS Regression Results                            \n",
            "==============================================================================\n",
            "Dep. Variable:                   medv   R-squared:                       0.708\n",
            "Model:                            OLS   Adj. R-squared:                  0.705\n",
            "Method:                 Least Squares   F-statistic:                     242.6\n",
            "Date:                Wed, 26 Feb 2020   Prob (F-statistic):          3.67e-131\n",
            "Time:                        18:44:20   Log-Likelihood:                -1528.7\n",
            "No. Observations:                 506   AIC:                             3069.\n",
            "Df Residuals:                     500   BIC:                             3095.\n",
            "Df Model:                           5                                         \n",
            "Covariance Type:            nonrobust                                         \n",
            "==============================================================================\n",
            "                 coef    std err          t      P>|t|      [0.025      0.975]\n",
            "------------------------------------------------------------------------------\n",
            "Intercept     37.4992      4.613      8.129      0.000      28.436      46.562\n",
            "lstat         -0.5811      0.048    -12.122      0.000      -0.675      -0.487\n",
            "rm             4.1633      0.412     10.104      0.000       3.354       4.973\n",
            "nox          -17.9966      3.261     -5.519      0.000     -24.403     -11.590\n",
            "dis           -1.1847      0.168     -7.034      0.000      -1.516      -0.854\n",
            "ptratio       -1.0458      0.114     -9.212      0.000      -1.269      -0.823\n",
            "==============================================================================\n",
            "Omnibus:                      187.456   Durbin-Watson:                   0.971\n",
            "Prob(Omnibus):                  0.000   Jarque-Bera (JB):              885.498\n",
            "Skew:                           1.584   Prob(JB):                    5.21e-193\n",
            "Kurtosis:                       8.654   Cond. No.                         545.\n",
            "==============================================================================\n",
            "\n",
            "Warnings:\n",
            "[1] Standard Errors assume that the covariance matrix of the errors is correctly specified.\n"
          ],
          "name": "stdout"
        }
      ]
    },
    {
      "cell_type": "code",
      "metadata": {
        "id": "mdIQQG9kajF0",
        "colab_type": "code",
        "outputId": "7a706eef-a582-4d9a-a9ae-08ecad4458f3",
        "colab": {
          "base_uri": "https://localhost:8080/",
          "height": 561
        }
      },
      "source": [
        "mod2 = ols('medv ~ lstat*rm+nox+dis+ptratio', df).fit()\n",
        "print(mod2.summary())"
      ],
      "execution_count": 172,
      "outputs": [
        {
          "output_type": "stream",
          "text": [
            "                            OLS Regression Results                            \n",
            "==============================================================================\n",
            "Dep. Variable:                   medv   R-squared:                       0.778\n",
            "Model:                            OLS   Adj. R-squared:                  0.775\n",
            "Method:                 Least Squares   F-statistic:                     290.8\n",
            "Date:                Wed, 26 Feb 2020   Prob (F-statistic):          2.48e-159\n",
            "Time:                        18:44:20   Log-Likelihood:                -1459.9\n",
            "No. Observations:                 506   AIC:                             2934.\n",
            "Df Residuals:                     499   BIC:                             2963.\n",
            "Df Model:                           6                                         \n",
            "Covariance Type:            nonrobust                                         \n",
            "==============================================================================\n",
            "                 coef    std err          t      P>|t|      [0.025      0.975]\n",
            "------------------------------------------------------------------------------\n",
            "Intercept      3.1518      4.880      0.646      0.519      -6.435      12.739\n",
            "lstat          1.8115      0.196      9.237      0.000       1.426       2.197\n",
            "rm             8.3344      0.491     16.971      0.000       7.370       9.299\n",
            "lstat:rm      -0.4185      0.034    -12.488      0.000      -0.484      -0.353\n",
            "nox          -12.3651      2.885     -4.286      0.000     -18.033      -6.697\n",
            "dis           -1.0184      0.148     -6.893      0.000      -1.309      -0.728\n",
            "ptratio       -0.7152      0.103     -6.967      0.000      -0.917      -0.514\n",
            "==============================================================================\n",
            "Omnibus:                      246.928   Durbin-Watson:                   1.079\n",
            "Prob(Omnibus):                  0.000   Jarque-Bera (JB):             2792.613\n",
            "Skew:                           1.836   Prob(JB):                         0.00\n",
            "Kurtosis:                      13.908   Cond. No.                     2.36e+03\n",
            "==============================================================================\n",
            "\n",
            "Warnings:\n",
            "[1] Standard Errors assume that the covariance matrix of the errors is correctly specified.\n",
            "[2] The condition number is large, 2.36e+03. This might indicate that there are\n",
            "strong multicollinearity or other numerical problems.\n"
          ],
          "name": "stdout"
        }
      ]
    },
    {
      "cell_type": "markdown",
      "metadata": {
        "id": "b6m4opFDa4KS",
        "colab_type": "text"
      },
      "source": [
        "The first table shows the regression results for median house value againts lstat,rm,nox,dis,ptratio (medv~lstat+rm+nox+dis+ptratio) we can see that the R-Value indicates that about 70% of variability in median house value can be explained by the aformentioned values. The p-value for all of the values is very low less than 0.05 which indicates a strong correlation between medv and the aformentioned values. The standard error shows the average distance that the values fall from the regression line as a measure of the dependant variable medv. In this case all of the values follow the regression line quite closely. \n",
        "\n",
        "The second table improves the model by introducing an interaction between the percentage of low socioeconomic households and the average number of rooms. (lstat*rm) These two variables interact and have an effect on each other. The percentage of low socioeconomic households has an effect on the average number of rooms and vice versa. We can see that this model is improved as the R-Value indicates that about 77.8% of variability in the median house value can be explained by these values. The P-value of the interaction is also very low.  The * operator includes the variables seperately as well as the interaction between them denoted by the : operator.\n"
      ]
    },
    {
      "cell_type": "code",
      "metadata": {
        "id": "Y8-ClvT3a8SG",
        "colab_type": "code",
        "outputId": "28d22846-1aca-444f-f173-2461204ccd5f",
        "colab": {
          "base_uri": "https://localhost:8080/",
          "height": 578
        }
      },
      "source": [
        "mod3 = ols('medv ~ lstat*rm+I((lstat*rm)**2)+nox+dis+ptratio', df).fit()\n",
        "print(mod3.summary())"
      ],
      "execution_count": 173,
      "outputs": [
        {
          "output_type": "stream",
          "text": [
            "                            OLS Regression Results                            \n",
            "==============================================================================\n",
            "Dep. Variable:                   medv   R-squared:                       0.781\n",
            "Model:                            OLS   Adj. R-squared:                  0.778\n",
            "Method:                 Least Squares   F-statistic:                     253.9\n",
            "Date:                Wed, 26 Feb 2020   Prob (F-statistic):          8.05e-160\n",
            "Time:                        18:44:20   Log-Likelihood:                -1455.8\n",
            "No. Observations:                 506   AIC:                             2928.\n",
            "Df Residuals:                     498   BIC:                             2961.\n",
            "Df Model:                           7                                         \n",
            "Covariance Type:            nonrobust                                         \n",
            "========================================================================================\n",
            "                           coef    std err          t      P>|t|      [0.025      0.975]\n",
            "----------------------------------------------------------------------------------------\n",
            "Intercept               10.5522      5.499      1.919      0.056      -0.253      21.357\n",
            "lstat                    1.5468      0.216      7.167      0.000       1.123       1.971\n",
            "rm                       7.6004      0.552     13.777      0.000       6.516       8.684\n",
            "lstat:rm                -0.4468      0.035    -12.864      0.000      -0.515      -0.379\n",
            "I((lstat * rm) ** 2)     0.0004      0.000      2.845      0.005       0.000       0.001\n",
            "nox                    -12.2898      2.865     -4.290      0.000     -17.918      -6.662\n",
            "dis                     -1.0641      0.148     -7.209      0.000      -1.354      -0.774\n",
            "ptratio                 -0.7112      0.102     -6.977      0.000      -0.912      -0.511\n",
            "==============================================================================\n",
            "Omnibus:                      217.415   Durbin-Watson:                   1.059\n",
            "Prob(Omnibus):                  0.000   Jarque-Bera (JB):             2007.945\n",
            "Skew:                           1.622   Prob(JB):                         0.00\n",
            "Kurtosis:                      12.204   Cond. No.                     3.02e+05\n",
            "==============================================================================\n",
            "\n",
            "Warnings:\n",
            "[1] Standard Errors assume that the covariance matrix of the errors is correctly specified.\n",
            "[2] The condition number is large, 3.02e+05. This might indicate that there are\n",
            "strong multicollinearity or other numerical problems.\n"
          ],
          "name": "stdout"
        }
      ]
    },
    {
      "cell_type": "code",
      "metadata": {
        "id": "_aXrhMv7N3fi",
        "colab_type": "code",
        "colab": {
          "base_uri": "https://localhost:8080/",
          "height": 213
        },
        "outputId": "2fcb8650-5cc5-416c-9376-8332b3025aad"
      },
      "source": [
        "sm.stats.anova_lm(mod2, mod3)"
      ],
      "execution_count": 174,
      "outputs": [
        {
          "output_type": "stream",
          "text": [
            "/usr/local/lib/python3.6/dist-packages/scipy/stats/_distn_infrastructure.py:903: RuntimeWarning: invalid value encountered in greater\n",
            "  return (a < x) & (x < b)\n",
            "/usr/local/lib/python3.6/dist-packages/scipy/stats/_distn_infrastructure.py:903: RuntimeWarning: invalid value encountered in less\n",
            "  return (a < x) & (x < b)\n",
            "/usr/local/lib/python3.6/dist-packages/scipy/stats/_distn_infrastructure.py:1912: RuntimeWarning: invalid value encountered in less_equal\n",
            "  cond2 = cond0 & (x <= _a)\n"
          ],
          "name": "stderr"
        },
        {
          "output_type": "execute_result",
          "data": {
            "text/html": [
              "<div>\n",
              "<style scoped>\n",
              "    .dataframe tbody tr th:only-of-type {\n",
              "        vertical-align: middle;\n",
              "    }\n",
              "\n",
              "    .dataframe tbody tr th {\n",
              "        vertical-align: top;\n",
              "    }\n",
              "\n",
              "    .dataframe thead th {\n",
              "        text-align: right;\n",
              "    }\n",
              "</style>\n",
              "<table border=\"1\" class=\"dataframe\">\n",
              "  <thead>\n",
              "    <tr style=\"text-align: right;\">\n",
              "      <th></th>\n",
              "      <th>df_resid</th>\n",
              "      <th>ssr</th>\n",
              "      <th>df_diff</th>\n",
              "      <th>ss_diff</th>\n",
              "      <th>F</th>\n",
              "      <th>Pr(&gt;F)</th>\n",
              "    </tr>\n",
              "  </thead>\n",
              "  <tbody>\n",
              "    <tr>\n",
              "      <th>0</th>\n",
              "      <td>499.0</td>\n",
              "      <td>9500.381881</td>\n",
              "      <td>0.0</td>\n",
              "      <td>NaN</td>\n",
              "      <td>NaN</td>\n",
              "      <td>NaN</td>\n",
              "    </tr>\n",
              "    <tr>\n",
              "      <th>1</th>\n",
              "      <td>498.0</td>\n",
              "      <td>9348.435955</td>\n",
              "      <td>1.0</td>\n",
              "      <td>151.945925</td>\n",
              "      <td>8.094303</td>\n",
              "      <td>0.004623</td>\n",
              "    </tr>\n",
              "  </tbody>\n",
              "</table>\n",
              "</div>"
            ],
            "text/plain": [
              "   df_resid          ssr  df_diff     ss_diff         F    Pr(>F)\n",
              "0     499.0  9500.381881      0.0         NaN       NaN       NaN\n",
              "1     498.0  9348.435955      1.0  151.945925  8.094303  0.004623"
            ]
          },
          "metadata": {
            "tags": []
          },
          "execution_count": 174
        }
      ]
    },
    {
      "cell_type": "markdown",
      "metadata": {
        "id": "ZdRD6mTxOCCy",
        "colab_type": "text"
      },
      "source": [
        "Table for model 3 shows a non-linear transformation of the interaction between lstat and rm. We used the anova test to quantify the difference between the two fitted models. df_resid shows us the residual degrees of freedom which is calculated as no.observations - no. independant variables - 1, the df_resid is lower for model 3 as it contains an additional independant variable.  The SSR shows us the sum of squared errors which is lower for the model 3 than model 2 indicating a better fit. ss_diff shows us that the differences in ssr between the two models is 151.94. The f value shows us the relationship between relative increase in the sum of squares and the relative increase in degrees of freedom. The p-value is below 0.05 which indicates that these differences are statistically significant between the two models. "
      ]
    },
    {
      "cell_type": "code",
      "metadata": {
        "id": "KYMw5AAtxWRN",
        "colab_type": "code",
        "outputId": "5f40ec24-20ae-4181-8d90-ddb2991bb978",
        "colab": {
          "base_uri": "https://localhost:8080/",
          "height": 646
        }
      },
      "source": [
        "mod4 = ols('medv ~ lstat*rm+I(lstat**1.0)+I(lstat**2.0)+I(lstat**3.0)+I(lstat**4.0)+I(lstat**5.0)+nox+dis+ptratio',df).fit()\n",
        "print(mod4.summary())"
      ],
      "execution_count": 175,
      "outputs": [
        {
          "output_type": "stream",
          "text": [
            "                            OLS Regression Results                            \n",
            "==============================================================================\n",
            "Dep. Variable:                   medv   R-squared:                       0.792\n",
            "Model:                            OLS   Adj. R-squared:                  0.787\n",
            "Method:                 Least Squares   F-statistic:                     188.0\n",
            "Date:                Wed, 26 Feb 2020   Prob (F-statistic):          1.80e-161\n",
            "Time:                        18:44:20   Log-Likelihood:                -1443.5\n",
            "No. Observations:                 506   AIC:                             2909.\n",
            "Df Residuals:                     495   BIC:                             2956.\n",
            "Df Model:                          10                                         \n",
            "Covariance Type:            nonrobust                                         \n",
            "===================================================================================\n",
            "                      coef    std err          t      P>|t|      [0.025      0.975]\n",
            "-----------------------------------------------------------------------------------\n",
            "Intercept          33.9246      7.663      4.427      0.000      18.869      48.981\n",
            "lstat              -2.8211      0.713     -3.957      0.000      -4.222      -1.420\n",
            "rm                  6.5291      0.711      9.183      0.000       5.132       7.926\n",
            "lstat:rm           -0.3055      0.052     -5.878      0.000      -0.408      -0.203\n",
            "I(lstat ** 1.0)    -2.8211      0.713     -3.957      0.000      -4.222      -1.420\n",
            "I(lstat ** 2.0)     0.8633      0.187      4.622      0.000       0.496       1.230\n",
            "I(lstat ** 3.0)    -0.0495      0.012     -4.153      0.000      -0.073      -0.026\n",
            "I(lstat ** 4.0)     0.0013      0.000      3.795      0.000       0.001       0.002\n",
            "I(lstat ** 5.0) -1.279e-05   3.64e-06     -3.514      0.000   -1.99e-05   -5.64e-06\n",
            "nox               -13.7513      2.823     -4.871      0.000     -19.298      -8.204\n",
            "dis                -1.0326      0.145     -7.127      0.000      -1.317      -0.748\n",
            "ptratio            -0.7407      0.101     -7.324      0.000      -0.939      -0.542\n",
            "==============================================================================\n",
            "Omnibus:                      232.049   Durbin-Watson:                   1.116\n",
            "Prob(Omnibus):                  0.000   Jarque-Bera (JB):             2275.267\n",
            "Skew:                           1.742   Prob(JB):                         0.00\n",
            "Kurtosis:                      12.787   Cond. No.                     2.47e+18\n",
            "==============================================================================\n",
            "\n",
            "Warnings:\n",
            "[1] Standard Errors assume that the covariance matrix of the errors is correctly specified.\n",
            "[2] The smallest eigenvalue is 5.52e-21. This might indicate that there are\n",
            "strong multicollinearity problems or that the design matrix is singular.\n"
          ],
          "name": "stdout"
        }
      ]
    },
    {
      "cell_type": "code",
      "metadata": {
        "id": "kT0a1hwKjLvu",
        "colab_type": "code",
        "outputId": "0600688a-6538-40fb-c24e-8efd9da05a5f",
        "colab": {
          "base_uri": "https://localhost:8080/",
          "height": 213
        }
      },
      "source": [
        "sm.stats.anova_lm(mod2, mod4)"
      ],
      "execution_count": 176,
      "outputs": [
        {
          "output_type": "stream",
          "text": [
            "/usr/local/lib/python3.6/dist-packages/scipy/stats/_distn_infrastructure.py:903: RuntimeWarning: invalid value encountered in greater\n",
            "  return (a < x) & (x < b)\n",
            "/usr/local/lib/python3.6/dist-packages/scipy/stats/_distn_infrastructure.py:903: RuntimeWarning: invalid value encountered in less\n",
            "  return (a < x) & (x < b)\n",
            "/usr/local/lib/python3.6/dist-packages/scipy/stats/_distn_infrastructure.py:1912: RuntimeWarning: invalid value encountered in less_equal\n",
            "  cond2 = cond0 & (x <= _a)\n"
          ],
          "name": "stderr"
        },
        {
          "output_type": "execute_result",
          "data": {
            "text/html": [
              "<div>\n",
              "<style scoped>\n",
              "    .dataframe tbody tr th:only-of-type {\n",
              "        vertical-align: middle;\n",
              "    }\n",
              "\n",
              "    .dataframe tbody tr th {\n",
              "        vertical-align: top;\n",
              "    }\n",
              "\n",
              "    .dataframe thead th {\n",
              "        text-align: right;\n",
              "    }\n",
              "</style>\n",
              "<table border=\"1\" class=\"dataframe\">\n",
              "  <thead>\n",
              "    <tr style=\"text-align: right;\">\n",
              "      <th></th>\n",
              "      <th>df_resid</th>\n",
              "      <th>ssr</th>\n",
              "      <th>df_diff</th>\n",
              "      <th>ss_diff</th>\n",
              "      <th>F</th>\n",
              "      <th>Pr(&gt;F)</th>\n",
              "    </tr>\n",
              "  </thead>\n",
              "  <tbody>\n",
              "    <tr>\n",
              "      <th>0</th>\n",
              "      <td>499.0</td>\n",
              "      <td>9500.381881</td>\n",
              "      <td>0.0</td>\n",
              "      <td>NaN</td>\n",
              "      <td>NaN</td>\n",
              "      <td>NaN</td>\n",
              "    </tr>\n",
              "    <tr>\n",
              "      <th>1</th>\n",
              "      <td>495.0</td>\n",
              "      <td>8903.772453</td>\n",
              "      <td>4.0</td>\n",
              "      <td>596.609428</td>\n",
              "      <td>8.292038</td>\n",
              "      <td>0.000002</td>\n",
              "    </tr>\n",
              "  </tbody>\n",
              "</table>\n",
              "</div>"
            ],
            "text/plain": [
              "   df_resid          ssr  df_diff     ss_diff         F    Pr(>F)\n",
              "0     499.0  9500.381881      0.0         NaN       NaN       NaN\n",
              "1     495.0  8903.772453      4.0  596.609428  8.292038  0.000002"
            ]
          },
          "metadata": {
            "tags": []
          },
          "execution_count": 176
        }
      ]
    },
    {
      "cell_type": "markdown",
      "metadata": {
        "id": "-GtB9fFvgZLA",
        "colab_type": "text"
      },
      "source": [
        "Table for model 4 shows use of polynomial regression which can be used to fit non-linear relationships. The higher the order of the polynomial the more non-linear function can be fit. The anova test shows us that the difference between sum of squared errors between the two models is 596.6 at the cost of 4 more predictors hence df_diff is 4. The P value is less than 0.05 showing us that the differences between the two models are statistically significant"
      ]
    },
    {
      "cell_type": "code",
      "metadata": {
        "id": "UNOfSKdS8md_",
        "colab_type": "code",
        "outputId": "8824ab9e-289a-4a30-e2fe-3065d980e91e",
        "colab": {
          "base_uri": "https://localhost:8080/",
          "height": 629
        }
      },
      "source": [
        "mod5 = ols('medv ~ I(lstat**1.0)+I(lstat**2.0)+I(lstat**3.0)+I(lstat**4.0)+I(lstat**5.0)+rm+np.log(rm)+nox+dis+ptratio',df).fit()\n",
        "print(mod5.summary())"
      ],
      "execution_count": 177,
      "outputs": [
        {
          "output_type": "stream",
          "text": [
            "                            OLS Regression Results                            \n",
            "==============================================================================\n",
            "Dep. Variable:                   medv   R-squared:                       0.804\n",
            "Model:                            OLS   Adj. R-squared:                  0.800\n",
            "Method:                 Least Squares   F-statistic:                     202.6\n",
            "Date:                Wed, 26 Feb 2020   Prob (F-statistic):          7.10e-168\n",
            "Time:                        18:44:20   Log-Likelihood:                -1428.4\n",
            "No. Observations:                 506   AIC:                             2879.\n",
            "Df Residuals:                     495   BIC:                             2925.\n",
            "Df Model:                          10                                         \n",
            "Covariance Type:            nonrobust                                         \n",
            "===================================================================================\n",
            "                      coef    std err          t      P>|t|      [0.025      0.975]\n",
            "-----------------------------------------------------------------------------------\n",
            "Intercept         172.9866     13.954     12.397      0.000     145.571     200.402\n",
            "I(lstat ** 1.0)    -8.5527      1.227     -6.969      0.000     -10.964      -6.141\n",
            "I(lstat ** 2.0)     1.0064      0.178      5.654      0.000       0.657       1.356\n",
            "I(lstat ** 3.0)    -0.0582      0.011     -5.087      0.000      -0.081      -0.036\n",
            "I(lstat ** 4.0)     0.0015      0.000      4.672      0.000       0.001       0.002\n",
            "I(lstat ** 5.0) -1.521e-05   3.52e-06     -4.323      0.000   -2.21e-05    -8.3e-06\n",
            "rm                 25.1967      2.732      9.224      0.000      19.830      30.564\n",
            "np.log(rm)       -137.4038     16.761     -8.198      0.000    -170.336    -104.472\n",
            "nox               -16.6408      2.734     -6.087      0.000     -22.012     -11.270\n",
            "dis                -0.9709      0.141     -6.885      0.000      -1.248      -0.694\n",
            "ptratio            -0.7843      0.097     -8.116      0.000      -0.974      -0.594\n",
            "==============================================================================\n",
            "Omnibus:                      221.958   Durbin-Watson:                   1.064\n",
            "Prob(Omnibus):                  0.000   Jarque-Bera (JB):             2718.500\n",
            "Skew:                           1.567   Prob(JB):                         0.00\n",
            "Kurtosis:                      13.914   Cond. No.                     9.63e+08\n",
            "==============================================================================\n",
            "\n",
            "Warnings:\n",
            "[1] Standard Errors assume that the covariance matrix of the errors is correctly specified.\n",
            "[2] The condition number is large, 9.63e+08. This might indicate that there are\n",
            "strong multicollinearity or other numerical problems.\n"
          ],
          "name": "stdout"
        }
      ]
    },
    {
      "cell_type": "code",
      "metadata": {
        "id": "DDkdtIN7ElDm",
        "colab_type": "code",
        "outputId": "955381d4-bd64-43a7-92be-46b06f575dcc",
        "colab": {
          "base_uri": "https://localhost:8080/",
          "height": 213
        }
      },
      "source": [
        "sm.stats.anova_lm(mod2, mod5)"
      ],
      "execution_count": 178,
      "outputs": [
        {
          "output_type": "stream",
          "text": [
            "/usr/local/lib/python3.6/dist-packages/scipy/stats/_distn_infrastructure.py:903: RuntimeWarning: invalid value encountered in greater\n",
            "  return (a < x) & (x < b)\n",
            "/usr/local/lib/python3.6/dist-packages/scipy/stats/_distn_infrastructure.py:903: RuntimeWarning: invalid value encountered in less\n",
            "  return (a < x) & (x < b)\n",
            "/usr/local/lib/python3.6/dist-packages/scipy/stats/_distn_infrastructure.py:1912: RuntimeWarning: invalid value encountered in less_equal\n",
            "  cond2 = cond0 & (x <= _a)\n"
          ],
          "name": "stderr"
        },
        {
          "output_type": "execute_result",
          "data": {
            "text/html": [
              "<div>\n",
              "<style scoped>\n",
              "    .dataframe tbody tr th:only-of-type {\n",
              "        vertical-align: middle;\n",
              "    }\n",
              "\n",
              "    .dataframe tbody tr th {\n",
              "        vertical-align: top;\n",
              "    }\n",
              "\n",
              "    .dataframe thead th {\n",
              "        text-align: right;\n",
              "    }\n",
              "</style>\n",
              "<table border=\"1\" class=\"dataframe\">\n",
              "  <thead>\n",
              "    <tr style=\"text-align: right;\">\n",
              "      <th></th>\n",
              "      <th>df_resid</th>\n",
              "      <th>ssr</th>\n",
              "      <th>df_diff</th>\n",
              "      <th>ss_diff</th>\n",
              "      <th>F</th>\n",
              "      <th>Pr(&gt;F)</th>\n",
              "    </tr>\n",
              "  </thead>\n",
              "  <tbody>\n",
              "    <tr>\n",
              "      <th>0</th>\n",
              "      <td>499.0</td>\n",
              "      <td>9500.381881</td>\n",
              "      <td>0.0</td>\n",
              "      <td>NaN</td>\n",
              "      <td>NaN</td>\n",
              "      <td>NaN</td>\n",
              "    </tr>\n",
              "    <tr>\n",
              "      <th>1</th>\n",
              "      <td>495.0</td>\n",
              "      <td>8386.756361</td>\n",
              "      <td>4.0</td>\n",
              "      <td>1113.62552</td>\n",
              "      <td>16.431997</td>\n",
              "      <td>1.190966e-12</td>\n",
              "    </tr>\n",
              "  </tbody>\n",
              "</table>\n",
              "</div>"
            ],
            "text/plain": [
              "   df_resid          ssr  df_diff     ss_diff          F        Pr(>F)\n",
              "0     499.0  9500.381881      0.0         NaN        NaN           NaN\n",
              "1     495.0  8386.756361      4.0  1113.62552  16.431997  1.190966e-12"
            ]
          },
          "metadata": {
            "tags": []
          },
          "execution_count": 178
        }
      ]
    },
    {
      "cell_type": "markdown",
      "metadata": {
        "id": "smR06BUDEsQ7",
        "colab_type": "text"
      },
      "source": [
        "Table for model 5 shows the addition of logarithmic transformation to model 4. The anova test shows us that the difference in the sum of squared errors between model 2 and model 5 is 1113.6, which indicates a better fit,  at the cost of 4 more predictor values. The P value is less than 0.05 showing us that the differences between the two models are statistically significant. "
      ]
    },
    {
      "cell_type": "markdown",
      "metadata": {
        "id": "i2bPNuoIgThf",
        "colab_type": "text"
      },
      "source": [
        "**Beat the teacher**"
      ]
    },
    {
      "cell_type": "code",
      "metadata": {
        "id": "N5b8b3VGU3Eo",
        "colab_type": "code",
        "colab": {
          "base_uri": "https://localhost:8080/",
          "height": 833
        },
        "outputId": "5177c9fd-53f8-436d-80e1-693807e71c84"
      },
      "source": [
        "mod5B = ols('medv ~ I(lstat**1.0)+I(lstat**2.0)+I(lstat**3.0)+I(lstat**4.0)+I(lstat**5.0)+rm+np.log(rm)+nox+dis+ptratio+np.log(crim)*lstat+black*crim+ptratio*crim+lstat*zn+nox*rm+tax*lstat',df).fit()\n",
        "print(mod5B.summary())"
      ],
      "execution_count": 179,
      "outputs": [
        {
          "output_type": "stream",
          "text": [
            "                            OLS Regression Results                            \n",
            "==============================================================================\n",
            "Dep. Variable:                   medv   R-squared:                       0.840\n",
            "Model:                            OLS   Adj. R-squared:                  0.833\n",
            "Method:                 Least Squares   F-statistic:                     120.6\n",
            "Date:                Wed, 26 Feb 2020   Prob (F-statistic):          4.32e-177\n",
            "Time:                        18:44:20   Log-Likelihood:                -1377.3\n",
            "No. Observations:                 506   AIC:                             2799.\n",
            "Df Residuals:                     484   BIC:                             2892.\n",
            "Df Model:                          21                                         \n",
            "Covariance Type:            nonrobust                                         \n",
            "======================================================================================\n",
            "                         coef    std err          t      P>|t|      [0.025      0.975]\n",
            "--------------------------------------------------------------------------------------\n",
            "Intercept             90.8330     20.446      4.443      0.000      50.659     131.007\n",
            "I(lstat ** 1.0)       -3.1230      0.597     -5.234      0.000      -4.295      -1.951\n",
            "I(lstat ** 2.0)        0.6560      0.171      3.829      0.000       0.319       0.993\n",
            "I(lstat ** 3.0)       -0.0346      0.011     -3.156      0.002      -0.056      -0.013\n",
            "I(lstat ** 4.0)        0.0009      0.000      2.730      0.007       0.000       0.001\n",
            "I(lstat ** 5.0)    -7.942e-06   3.35e-06     -2.371      0.018   -1.45e-05   -1.36e-06\n",
            "rm                    26.2617      2.671      9.832      0.000      21.013      31.510\n",
            "np.log(rm)          -100.0580     16.823     -5.948      0.000    -133.114     -67.002\n",
            "nox                   55.8091     17.947      3.110      0.002      20.545      91.074\n",
            "dis                   -1.0326      0.157     -6.571      0.000      -1.341      -0.724\n",
            "ptratio               -0.7340      0.129     -5.693      0.000      -0.987      -0.481\n",
            "np.log(crim)           1.8270      0.417      4.379      0.000       1.007       2.647\n",
            "lstat                 -3.1230      0.597     -5.234      0.000      -4.295      -1.951\n",
            "np.log(crim):lstat    -0.0801      0.029     -2.762      0.006      -0.137      -0.023\n",
            "black                  0.0071      0.003      2.395      0.017       0.001       0.013\n",
            "crim                  -4.1790      1.981     -2.109      0.035      -8.072      -0.286\n",
            "black:crim            -0.0001      0.000     -0.730      0.466      -0.000       0.000\n",
            "ptratio:crim           0.2034      0.098      2.080      0.038       0.011       0.395\n",
            "zn                     0.0088      0.022      0.400      0.690      -0.034       0.052\n",
            "lstat:zn               0.0028      0.003      0.955      0.340      -0.003       0.009\n",
            "nox:rm               -11.4544      2.890     -3.963      0.000     -17.133      -5.776\n",
            "tax                    0.0039      0.005      0.854      0.394      -0.005       0.013\n",
            "tax:lstat             -0.0006      0.000     -2.017      0.044      -0.001   -1.49e-05\n",
            "==============================================================================\n",
            "Omnibus:                      197.830   Durbin-Watson:                   1.161\n",
            "Prob(Omnibus):                  0.000   Jarque-Bera (JB):             2284.537\n",
            "Skew:                           1.364   Prob(JB):                         0.00\n",
            "Kurtosis:                      13.046   Cond. No.                     5.38e+21\n",
            "==============================================================================\n",
            "\n",
            "Warnings:\n",
            "[1] Standard Errors assume that the covariance matrix of the errors is correctly specified.\n",
            "[2] The smallest eigenvalue is 1.16e-27. This might indicate that there are\n",
            "strong multicollinearity problems or that the design matrix is singular.\n"
          ],
          "name": "stdout"
        }
      ]
    },
    {
      "cell_type": "code",
      "metadata": {
        "id": "sIRuH00EZKTU",
        "colab_type": "code",
        "colab": {
          "base_uri": "https://localhost:8080/",
          "height": 213
        },
        "outputId": "71184618-b90e-4ddc-b0e3-1c51f77fd7f7"
      },
      "source": [
        "sm.stats.anova_lm(mod5, mod5B)"
      ],
      "execution_count": 180,
      "outputs": [
        {
          "output_type": "stream",
          "text": [
            "/usr/local/lib/python3.6/dist-packages/scipy/stats/_distn_infrastructure.py:903: RuntimeWarning: invalid value encountered in greater\n",
            "  return (a < x) & (x < b)\n",
            "/usr/local/lib/python3.6/dist-packages/scipy/stats/_distn_infrastructure.py:903: RuntimeWarning: invalid value encountered in less\n",
            "  return (a < x) & (x < b)\n",
            "/usr/local/lib/python3.6/dist-packages/scipy/stats/_distn_infrastructure.py:1912: RuntimeWarning: invalid value encountered in less_equal\n",
            "  cond2 = cond0 & (x <= _a)\n"
          ],
          "name": "stderr"
        },
        {
          "output_type": "execute_result",
          "data": {
            "text/html": [
              "<div>\n",
              "<style scoped>\n",
              "    .dataframe tbody tr th:only-of-type {\n",
              "        vertical-align: middle;\n",
              "    }\n",
              "\n",
              "    .dataframe tbody tr th {\n",
              "        vertical-align: top;\n",
              "    }\n",
              "\n",
              "    .dataframe thead th {\n",
              "        text-align: right;\n",
              "    }\n",
              "</style>\n",
              "<table border=\"1\" class=\"dataframe\">\n",
              "  <thead>\n",
              "    <tr style=\"text-align: right;\">\n",
              "      <th></th>\n",
              "      <th>df_resid</th>\n",
              "      <th>ssr</th>\n",
              "      <th>df_diff</th>\n",
              "      <th>ss_diff</th>\n",
              "      <th>F</th>\n",
              "      <th>Pr(&gt;F)</th>\n",
              "    </tr>\n",
              "  </thead>\n",
              "  <tbody>\n",
              "    <tr>\n",
              "      <th>0</th>\n",
              "      <td>495.0</td>\n",
              "      <td>8386.756361</td>\n",
              "      <td>0.0</td>\n",
              "      <td>NaN</td>\n",
              "      <td>NaN</td>\n",
              "      <td>NaN</td>\n",
              "    </tr>\n",
              "    <tr>\n",
              "      <th>1</th>\n",
              "      <td>484.0</td>\n",
              "      <td>6852.638290</td>\n",
              "      <td>11.0</td>\n",
              "      <td>1534.118071</td>\n",
              "      <td>9.850395</td>\n",
              "      <td>3.274398e-16</td>\n",
              "    </tr>\n",
              "  </tbody>\n",
              "</table>\n",
              "</div>"
            ],
            "text/plain": [
              "   df_resid          ssr  df_diff      ss_diff         F        Pr(>F)\n",
              "0     495.0  8386.756361      0.0          NaN       NaN           NaN\n",
              "1     484.0  6852.638290     11.0  1534.118071  9.850395  3.274398e-16"
            ]
          },
          "metadata": {
            "tags": []
          },
          "execution_count": 180
        }
      ]
    },
    {
      "cell_type": "markdown",
      "metadata": {
        "id": "qeY2CxBvBRfo",
        "colab_type": "text"
      },
      "source": [
        "With the addition of several more predictors,tax,black,zn,crim as well as adding of interaction terms has resulted in a model with a higher R-Squared and adjusted R-squared values. The anova test shows that the difference in the sum of squared error between model 5 and model 5B is 1534.1 which indicates a better fit at the cost of 11 more predictor values. The P value is less than 0.05 showing us that the differences between the two models are statistically significant. "
      ]
    },
    {
      "cell_type": "code",
      "metadata": {
        "id": "15OF46dDCI6d",
        "colab_type": "code",
        "outputId": "c9a0096a-fdd3-4289-c765-c2522d517cf5",
        "colab": {
          "base_uri": "https://localhost:8080/",
          "height": 297
        }
      },
      "source": [
        "df_car = pd.read_csv('Carseats.csv')\n",
        "del df_car['Unnamed: 0']\n",
        "df_car.describe()"
      ],
      "execution_count": 181,
      "outputs": [
        {
          "output_type": "execute_result",
          "data": {
            "text/html": [
              "<div>\n",
              "<style scoped>\n",
              "    .dataframe tbody tr th:only-of-type {\n",
              "        vertical-align: middle;\n",
              "    }\n",
              "\n",
              "    .dataframe tbody tr th {\n",
              "        vertical-align: top;\n",
              "    }\n",
              "\n",
              "    .dataframe thead th {\n",
              "        text-align: right;\n",
              "    }\n",
              "</style>\n",
              "<table border=\"1\" class=\"dataframe\">\n",
              "  <thead>\n",
              "    <tr style=\"text-align: right;\">\n",
              "      <th></th>\n",
              "      <th>Sales</th>\n",
              "      <th>CompPrice</th>\n",
              "      <th>Income</th>\n",
              "      <th>Advertising</th>\n",
              "      <th>Population</th>\n",
              "      <th>Price</th>\n",
              "      <th>Age</th>\n",
              "      <th>Education</th>\n",
              "    </tr>\n",
              "  </thead>\n",
              "  <tbody>\n",
              "    <tr>\n",
              "      <th>count</th>\n",
              "      <td>400.000000</td>\n",
              "      <td>400.000000</td>\n",
              "      <td>400.000000</td>\n",
              "      <td>400.000000</td>\n",
              "      <td>400.000000</td>\n",
              "      <td>400.000000</td>\n",
              "      <td>400.000000</td>\n",
              "      <td>400.000000</td>\n",
              "    </tr>\n",
              "    <tr>\n",
              "      <th>mean</th>\n",
              "      <td>7.496325</td>\n",
              "      <td>124.975000</td>\n",
              "      <td>68.657500</td>\n",
              "      <td>6.635000</td>\n",
              "      <td>264.840000</td>\n",
              "      <td>115.795000</td>\n",
              "      <td>53.322500</td>\n",
              "      <td>13.900000</td>\n",
              "    </tr>\n",
              "    <tr>\n",
              "      <th>std</th>\n",
              "      <td>2.824115</td>\n",
              "      <td>15.334512</td>\n",
              "      <td>27.986037</td>\n",
              "      <td>6.650364</td>\n",
              "      <td>147.376436</td>\n",
              "      <td>23.676664</td>\n",
              "      <td>16.200297</td>\n",
              "      <td>2.620528</td>\n",
              "    </tr>\n",
              "    <tr>\n",
              "      <th>min</th>\n",
              "      <td>0.000000</td>\n",
              "      <td>77.000000</td>\n",
              "      <td>21.000000</td>\n",
              "      <td>0.000000</td>\n",
              "      <td>10.000000</td>\n",
              "      <td>24.000000</td>\n",
              "      <td>25.000000</td>\n",
              "      <td>10.000000</td>\n",
              "    </tr>\n",
              "    <tr>\n",
              "      <th>25%</th>\n",
              "      <td>5.390000</td>\n",
              "      <td>115.000000</td>\n",
              "      <td>42.750000</td>\n",
              "      <td>0.000000</td>\n",
              "      <td>139.000000</td>\n",
              "      <td>100.000000</td>\n",
              "      <td>39.750000</td>\n",
              "      <td>12.000000</td>\n",
              "    </tr>\n",
              "    <tr>\n",
              "      <th>50%</th>\n",
              "      <td>7.490000</td>\n",
              "      <td>125.000000</td>\n",
              "      <td>69.000000</td>\n",
              "      <td>5.000000</td>\n",
              "      <td>272.000000</td>\n",
              "      <td>117.000000</td>\n",
              "      <td>54.500000</td>\n",
              "      <td>14.000000</td>\n",
              "    </tr>\n",
              "    <tr>\n",
              "      <th>75%</th>\n",
              "      <td>9.320000</td>\n",
              "      <td>135.000000</td>\n",
              "      <td>91.000000</td>\n",
              "      <td>12.000000</td>\n",
              "      <td>398.500000</td>\n",
              "      <td>131.000000</td>\n",
              "      <td>66.000000</td>\n",
              "      <td>16.000000</td>\n",
              "    </tr>\n",
              "    <tr>\n",
              "      <th>max</th>\n",
              "      <td>16.270000</td>\n",
              "      <td>175.000000</td>\n",
              "      <td>120.000000</td>\n",
              "      <td>29.000000</td>\n",
              "      <td>509.000000</td>\n",
              "      <td>191.000000</td>\n",
              "      <td>80.000000</td>\n",
              "      <td>18.000000</td>\n",
              "    </tr>\n",
              "  </tbody>\n",
              "</table>\n",
              "</div>"
            ],
            "text/plain": [
              "            Sales   CompPrice      Income  ...       Price         Age   Education\n",
              "count  400.000000  400.000000  400.000000  ...  400.000000  400.000000  400.000000\n",
              "mean     7.496325  124.975000   68.657500  ...  115.795000   53.322500   13.900000\n",
              "std      2.824115   15.334512   27.986037  ...   23.676664   16.200297    2.620528\n",
              "min      0.000000   77.000000   21.000000  ...   24.000000   25.000000   10.000000\n",
              "25%      5.390000  115.000000   42.750000  ...  100.000000   39.750000   12.000000\n",
              "50%      7.490000  125.000000   69.000000  ...  117.000000   54.500000   14.000000\n",
              "75%      9.320000  135.000000   91.000000  ...  131.000000   66.000000   16.000000\n",
              "max     16.270000  175.000000  120.000000  ...  191.000000   80.000000   18.000000\n",
              "\n",
              "[8 rows x 8 columns]"
            ]
          },
          "metadata": {
            "tags": []
          },
          "execution_count": 181
        }
      ]
    },
    {
      "cell_type": "code",
      "metadata": {
        "id": "I-ieL7ffCe_B",
        "colab_type": "code",
        "outputId": "1561961d-1460-4b58-ac6d-53e912f7b5e8",
        "colab": {
          "base_uri": "https://localhost:8080/",
          "height": 646
        }
      },
      "source": [
        "mod6 = ols('Sales ~ CompPrice+Income+Advertising+Population+Price+Age+Education+ShelveLoc+Urban+US',df_car).fit()\n",
        "print(mod6.summary())"
      ],
      "execution_count": 182,
      "outputs": [
        {
          "output_type": "stream",
          "text": [
            "                            OLS Regression Results                            \n",
            "==============================================================================\n",
            "Dep. Variable:                  Sales   R-squared:                       0.873\n",
            "Model:                            OLS   Adj. R-squared:                  0.870\n",
            "Method:                 Least Squares   F-statistic:                     243.4\n",
            "Date:                Wed, 26 Feb 2020   Prob (F-statistic):          1.60e-166\n",
            "Time:                        18:44:20   Log-Likelihood:                -568.99\n",
            "No. Observations:                 400   AIC:                             1162.\n",
            "Df Residuals:                     388   BIC:                             1210.\n",
            "Df Model:                          11                                         \n",
            "Covariance Type:            nonrobust                                         \n",
            "=======================================================================================\n",
            "                          coef    std err          t      P>|t|      [0.025      0.975]\n",
            "---------------------------------------------------------------------------------------\n",
            "Intercept               5.6606      0.603      9.380      0.000       4.474       6.847\n",
            "ShelveLoc[T.Good]       4.8502      0.153     31.678      0.000       4.549       5.151\n",
            "ShelveLoc[T.Medium]     1.9567      0.126     15.516      0.000       1.709       2.205\n",
            "Urban[T.Yes]            0.1229      0.113      1.088      0.277      -0.099       0.345\n",
            "US[T.Yes]              -0.1841      0.150     -1.229      0.220      -0.479       0.111\n",
            "CompPrice               0.0928      0.004     22.378      0.000       0.085       0.101\n",
            "Income                  0.0158      0.002      8.565      0.000       0.012       0.019\n",
            "Advertising             0.1231      0.011     11.066      0.000       0.101       0.145\n",
            "Population              0.0002      0.000      0.561      0.575      -0.001       0.001\n",
            "Price                  -0.0954      0.003    -35.700      0.000      -0.101      -0.090\n",
            "Age                    -0.0460      0.003    -14.472      0.000      -0.052      -0.040\n",
            "Education              -0.0211      0.020     -1.070      0.285      -0.060       0.018\n",
            "==============================================================================\n",
            "Omnibus:                        0.811   Durbin-Watson:                   2.013\n",
            "Prob(Omnibus):                  0.667   Jarque-Bera (JB):                0.765\n",
            "Skew:                           0.107   Prob(JB):                        0.682\n",
            "Kurtosis:                       2.994   Cond. No.                     4.15e+03\n",
            "==============================================================================\n",
            "\n",
            "Warnings:\n",
            "[1] Standard Errors assume that the covariance matrix of the errors is correctly specified.\n",
            "[2] The condition number is large, 4.15e+03. This might indicate that there are\n",
            "strong multicollinearity or other numerical problems.\n"
          ],
          "name": "stdout"
        }
      ]
    },
    {
      "cell_type": "markdown",
      "metadata": {
        "id": "xM__3GWaDsK9",
        "colab_type": "text"
      },
      "source": [
        "Looking at the regression results for sales againts all other values ('Sales ~ CompPrice+Income+Advertising+Population+Price+Age+Education+ShelveLoc+Urban+US') we can see that the R-Value indicates that about 87% of variability in sales can be explained by the afformentioned values. The p value is less than 0.05 for ShelvLoc,CompPrice, Income, Advertising,Price, and Age suggesting that these values are statistically significant and show a strong correlation between Sales and the afformentioned values. On the other hands the p values from Urban,US, Education and Population are high suggesting they are not statistically significant and have a weak correlation with Sales. The negative coefficients show that the relationship is weakly negative for price, Age,Education, US[T.Yes] meaning that the higher these values are the lower the Sales. The positive coefficients show that the relationship is positive for Population, Advertising, Income, CompPrice, Urban, ShelvLoc meaning that the higher these values are the higher the Sales. \n",
        "The f-statistic is much greater than 1 suggesting that there is a relationship between sales and all of the afformentioned values. "
      ]
    },
    {
      "cell_type": "code",
      "metadata": {
        "id": "jvlgVsOzDzuX",
        "colab_type": "code",
        "outputId": "26284cff-8592-4135-ca84-0ed956490f6f",
        "colab": {
          "base_uri": "https://localhost:8080/",
          "height": 595
        }
      },
      "source": [
        "mod7 = ols('Sales ~ CompPrice+Income+Advertising+Price+ShelveLoc+Income:Advertising+Price:Age',df_car).fit()\n",
        "print(mod7.summary())"
      ],
      "execution_count": 183,
      "outputs": [
        {
          "output_type": "stream",
          "text": [
            "                            OLS Regression Results                            \n",
            "==============================================================================\n",
            "Dep. Variable:                  Sales   R-squared:                       0.870\n",
            "Model:                            OLS   Adj. R-squared:                  0.868\n",
            "Method:                 Least Squares   F-statistic:                     328.2\n",
            "Date:                Wed, 26 Feb 2020   Prob (F-statistic):          2.90e-168\n",
            "Time:                        18:44:20   Log-Likelihood:                -573.74\n",
            "No. Observations:                 400   AIC:                             1165.\n",
            "Df Residuals:                     391   BIC:                             1201.\n",
            "Df Model:                           8                                         \n",
            "Covariance Type:            nonrobust                                         \n",
            "=======================================================================================\n",
            "                          coef    std err          t      P>|t|      [0.025      0.975]\n",
            "---------------------------------------------------------------------------------------\n",
            "Intercept               3.2991      0.476      6.932      0.000       2.363       4.235\n",
            "ShelveLoc[T.Good]       4.8949      0.154     31.825      0.000       4.592       5.197\n",
            "ShelveLoc[T.Medium]     1.9908      0.127     15.736      0.000       1.742       2.240\n",
            "CompPrice               0.0934      0.004     22.492      0.000       0.085       0.102\n",
            "Income                  0.0098      0.003      3.756      0.000       0.005       0.015\n",
            "Advertising             0.0534      0.021      2.544      0.011       0.012       0.095\n",
            "Price                  -0.0759      0.003    -25.591      0.000      -0.082      -0.070\n",
            "Income:Advertising      0.0009      0.000      3.124      0.002       0.000       0.001\n",
            "Price:Age              -0.0004   2.69e-05    -13.713      0.000      -0.000      -0.000\n",
            "==============================================================================\n",
            "Omnibus:                        1.537   Durbin-Watson:                   1.988\n",
            "Prob(Omnibus):                  0.464   Jarque-Bera (JB):                1.326\n",
            "Skew:                           0.129   Prob(JB):                        0.515\n",
            "Kurtosis:                       3.116   Cond. No.                     6.07e+04\n",
            "==============================================================================\n",
            "\n",
            "Warnings:\n",
            "[1] Standard Errors assume that the covariance matrix of the errors is correctly specified.\n",
            "[2] The condition number is large, 6.07e+04. This might indicate that there are\n",
            "strong multicollinearity or other numerical problems.\n"
          ],
          "name": "stdout"
        }
      ]
    },
    {
      "cell_type": "markdown",
      "metadata": {
        "id": "V7HMpe3WgGRU",
        "colab_type": "text"
      },
      "source": [
        "**Beat the Teacher**"
      ]
    },
    {
      "cell_type": "code",
      "metadata": {
        "id": "VUBlVI1oQlRa",
        "colab_type": "code",
        "outputId": "e33065c2-8b23-456c-f87f-e24598e0792a",
        "colab": {
          "base_uri": "https://localhost:8080/",
          "height": 680
        }
      },
      "source": [
        "mod7B = ols('Sales ~ CompPrice+Income+Advertising+Price+ShelveLoc+Income:Advertising+Price*Age+Price*Advertising+Income*Education+Income*Price',df_car).fit()\n",
        "print(mod7B.summary())"
      ],
      "execution_count": 184,
      "outputs": [
        {
          "output_type": "stream",
          "text": [
            "                            OLS Regression Results                            \n",
            "==============================================================================\n",
            "Dep. Variable:                  Sales   R-squared:                       0.878\n",
            "Model:                            OLS   Adj. R-squared:                  0.873\n",
            "Method:                 Least Squares   F-statistic:                     212.9\n",
            "Date:                Wed, 26 Feb 2020   Prob (F-statistic):          6.04e-167\n",
            "Time:                        18:44:20   Log-Likelihood:                -562.26\n",
            "No. Observations:                 400   AIC:                             1153.\n",
            "Df Residuals:                     386   BIC:                             1208.\n",
            "Df Model:                          13                                         \n",
            "Covariance Type:            nonrobust                                         \n",
            "=======================================================================================\n",
            "                          coef    std err          t      P>|t|      [0.025      0.975]\n",
            "---------------------------------------------------------------------------------------\n",
            "Intercept               5.8593      1.290      4.541      0.000       3.322       8.396\n",
            "ShelveLoc[T.Good]       4.8437      0.152     31.900      0.000       4.545       5.142\n",
            "ShelveLoc[T.Medium]     1.9260      0.125     15.424      0.000       1.681       2.172\n",
            "CompPrice               0.0933      0.004     22.917      0.000       0.085       0.101\n",
            "Income                  0.0248      0.013      1.911      0.057      -0.001       0.050\n",
            "Advertising             0.0025      0.045      0.056      0.955      -0.086       0.091\n",
            "Price                  -0.0900      0.009     -9.970      0.000      -0.108      -0.072\n",
            "Income:Advertising      0.0008      0.000      2.860      0.004       0.000       0.001\n",
            "Age                    -0.0542      0.016     -3.390      0.001      -0.086      -0.023\n",
            "Price:Age            7.499e-05      0.000      0.562      0.574      -0.000       0.000\n",
            "Price:Advertising       0.0005      0.000      1.498      0.135      -0.000       0.001\n",
            "Education              -0.0556      0.052     -1.069      0.286      -0.158       0.047\n",
            "Income:Education        0.0004      0.001      0.638      0.524      -0.001       0.002\n",
            "Income:Price           -0.0002   7.52e-05     -2.312      0.021      -0.000   -2.61e-05\n",
            "==============================================================================\n",
            "Omnibus:                        2.650   Durbin-Watson:                   2.047\n",
            "Prob(Omnibus):                  0.266   Jarque-Bera (JB):                2.440\n",
            "Skew:                           0.185   Prob(JB):                        0.295\n",
            "Kurtosis:                       3.100   Cond. No.                     2.74e+05\n",
            "==============================================================================\n",
            "\n",
            "Warnings:\n",
            "[1] Standard Errors assume that the covariance matrix of the errors is correctly specified.\n",
            "[2] The condition number is large, 2.74e+05. This might indicate that there are\n",
            "strong multicollinearity or other numerical problems.\n"
          ],
          "name": "stdout"
        }
      ]
    },
    {
      "cell_type": "code",
      "metadata": {
        "id": "4oYQ3YA4b0EQ",
        "colab_type": "code",
        "colab": {
          "base_uri": "https://localhost:8080/",
          "height": 213
        },
        "outputId": "fd6b1956-e1d5-4967-d270-6571bd6159d0"
      },
      "source": [
        "sm.stats.anova_lm(mod7, mod7B)"
      ],
      "execution_count": 185,
      "outputs": [
        {
          "output_type": "stream",
          "text": [
            "/usr/local/lib/python3.6/dist-packages/scipy/stats/_distn_infrastructure.py:903: RuntimeWarning: invalid value encountered in greater\n",
            "  return (a < x) & (x < b)\n",
            "/usr/local/lib/python3.6/dist-packages/scipy/stats/_distn_infrastructure.py:903: RuntimeWarning: invalid value encountered in less\n",
            "  return (a < x) & (x < b)\n",
            "/usr/local/lib/python3.6/dist-packages/scipy/stats/_distn_infrastructure.py:1912: RuntimeWarning: invalid value encountered in less_equal\n",
            "  cond2 = cond0 & (x <= _a)\n"
          ],
          "name": "stderr"
        },
        {
          "output_type": "execute_result",
          "data": {
            "text/html": [
              "<div>\n",
              "<style scoped>\n",
              "    .dataframe tbody tr th:only-of-type {\n",
              "        vertical-align: middle;\n",
              "    }\n",
              "\n",
              "    .dataframe tbody tr th {\n",
              "        vertical-align: top;\n",
              "    }\n",
              "\n",
              "    .dataframe thead th {\n",
              "        text-align: right;\n",
              "    }\n",
              "</style>\n",
              "<table border=\"1\" class=\"dataframe\">\n",
              "  <thead>\n",
              "    <tr style=\"text-align: right;\">\n",
              "      <th></th>\n",
              "      <th>df_resid</th>\n",
              "      <th>ssr</th>\n",
              "      <th>df_diff</th>\n",
              "      <th>ss_diff</th>\n",
              "      <th>F</th>\n",
              "      <th>Pr(&gt;F)</th>\n",
              "    </tr>\n",
              "  </thead>\n",
              "  <tbody>\n",
              "    <tr>\n",
              "      <th>0</th>\n",
              "      <td>391.0</td>\n",
              "      <td>412.514175</td>\n",
              "      <td>0.0</td>\n",
              "      <td>NaN</td>\n",
              "      <td>NaN</td>\n",
              "      <td>NaN</td>\n",
              "    </tr>\n",
              "    <tr>\n",
              "      <th>1</th>\n",
              "      <td>386.0</td>\n",
              "      <td>389.501032</td>\n",
              "      <td>5.0</td>\n",
              "      <td>23.013143</td>\n",
              "      <td>4.561258</td>\n",
              "      <td>0.000471</td>\n",
              "    </tr>\n",
              "  </tbody>\n",
              "</table>\n",
              "</div>"
            ],
            "text/plain": [
              "   df_resid         ssr  df_diff    ss_diff         F    Pr(>F)\n",
              "0     391.0  412.514175      0.0        NaN       NaN       NaN\n",
              "1     386.0  389.501032      5.0  23.013143  4.561258  0.000471"
            ]
          },
          "metadata": {
            "tags": []
          },
          "execution_count": 185
        }
      ]
    },
    {
      "cell_type": "markdown",
      "metadata": {
        "id": "YY2MqbxsDGkc",
        "colab_type": "text"
      },
      "source": [
        "The addition of several more interaction terms has resulted in a model with a higher R-Squared and adjusted R-squared values. The anova test shows that the difference in the sum of squared error between model 7 and model 7B is 23.01 which indicates a better fit at the cost of 5 more predictor values. The P value is less than 0.05 showing us that the differences between the two models are statistically significant. "
      ]
    }
  ]
}