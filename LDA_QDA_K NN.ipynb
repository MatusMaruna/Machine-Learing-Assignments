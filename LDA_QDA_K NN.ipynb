{
  "nbformat": 4,
  "nbformat_minor": 0,
  "metadata": {
    "colab": {
      "name": "Assignment4ipynb",
      "provenance": [],
      "collapsed_sections": []
    },
    "kernelspec": {
      "name": "python3",
      "display_name": "Python 3"
    }
  },
  "cells": [
    {
      "cell_type": "code",
      "metadata": {
        "id": "6FU96OZyb4St",
        "colab_type": "code",
        "colab": {}
      },
      "source": [
        "import pandas as pd\n",
        "import matplotlib.pyplot as plt\n",
        "import seaborn as sns \n",
        "import statsmodels.api as sm\n",
        "import statsmodels.formula.api as smf\n",
        "import numpy as np\n",
        "from sklearn.metrics import confusion_matrix, classification_report\n",
        "from sklearn.discriminant_analysis import LinearDiscriminantAnalysis, QuadraticDiscriminantAnalysis\n",
        "from sklearn import neighbors"
      ],
      "execution_count": 0,
      "outputs": []
    },
    {
      "cell_type": "code",
      "metadata": {
        "id": "sJ_far5fcFUh",
        "colab_type": "code",
        "outputId": "a9c99554-5c16-4190-a440-7e0c188c26d7",
        "colab": {
          "base_uri": "https://localhost:8080/",
          "height": 34
        }
      },
      "source": [
        "df = pd.read_csv('Smarket.csv')\n",
        "del df['Unnamed: 0']\n",
        "len(df.columns)"
      ],
      "execution_count": 0,
      "outputs": [
        {
          "output_type": "execute_result",
          "data": {
            "text/plain": [
              "9"
            ]
          },
          "metadata": {
            "tags": []
          },
          "execution_count": 107
        }
      ]
    },
    {
      "cell_type": "code",
      "metadata": {
        "id": "pM11qTzXc-xH",
        "colab_type": "code",
        "outputId": "93ecab6c-7803-43c8-e139-c886653a7261",
        "colab": {
          "base_uri": "https://localhost:8080/",
          "height": 68
        }
      },
      "source": [
        "df.columns"
      ],
      "execution_count": 0,
      "outputs": [
        {
          "output_type": "execute_result",
          "data": {
            "text/plain": [
              "Index(['Year', 'Lag1', 'Lag2', 'Lag3', 'Lag4', 'Lag5', 'Volume', 'Today',\n",
              "       'Direction'],\n",
              "      dtype='object')"
            ]
          },
          "metadata": {
            "tags": []
          },
          "execution_count": 108
        }
      ]
    },
    {
      "cell_type": "code",
      "metadata": {
        "id": "EeIwnI4ZdHXl",
        "colab_type": "code",
        "outputId": "2bb5c2a5-b111-437b-ccc7-4c1393d21872",
        "colab": {
          "base_uri": "https://localhost:8080/",
          "height": 297
        }
      },
      "source": [
        "df.describe()"
      ],
      "execution_count": 0,
      "outputs": [
        {
          "output_type": "execute_result",
          "data": {
            "text/html": [
              "<div>\n",
              "<style scoped>\n",
              "    .dataframe tbody tr th:only-of-type {\n",
              "        vertical-align: middle;\n",
              "    }\n",
              "\n",
              "    .dataframe tbody tr th {\n",
              "        vertical-align: top;\n",
              "    }\n",
              "\n",
              "    .dataframe thead th {\n",
              "        text-align: right;\n",
              "    }\n",
              "</style>\n",
              "<table border=\"1\" class=\"dataframe\">\n",
              "  <thead>\n",
              "    <tr style=\"text-align: right;\">\n",
              "      <th></th>\n",
              "      <th>Year</th>\n",
              "      <th>Lag1</th>\n",
              "      <th>Lag2</th>\n",
              "      <th>Lag3</th>\n",
              "      <th>Lag4</th>\n",
              "      <th>Lag5</th>\n",
              "      <th>Volume</th>\n",
              "      <th>Today</th>\n",
              "    </tr>\n",
              "  </thead>\n",
              "  <tbody>\n",
              "    <tr>\n",
              "      <th>count</th>\n",
              "      <td>1250.000000</td>\n",
              "      <td>1250.000000</td>\n",
              "      <td>1250.000000</td>\n",
              "      <td>1250.000000</td>\n",
              "      <td>1250.000000</td>\n",
              "      <td>1250.00000</td>\n",
              "      <td>1250.000000</td>\n",
              "      <td>1250.000000</td>\n",
              "    </tr>\n",
              "    <tr>\n",
              "      <th>mean</th>\n",
              "      <td>2003.016000</td>\n",
              "      <td>0.003834</td>\n",
              "      <td>0.003919</td>\n",
              "      <td>0.001716</td>\n",
              "      <td>0.001636</td>\n",
              "      <td>0.00561</td>\n",
              "      <td>1.478305</td>\n",
              "      <td>0.003138</td>\n",
              "    </tr>\n",
              "    <tr>\n",
              "      <th>std</th>\n",
              "      <td>1.409018</td>\n",
              "      <td>1.136299</td>\n",
              "      <td>1.136280</td>\n",
              "      <td>1.138703</td>\n",
              "      <td>1.138774</td>\n",
              "      <td>1.14755</td>\n",
              "      <td>0.360357</td>\n",
              "      <td>1.136334</td>\n",
              "    </tr>\n",
              "    <tr>\n",
              "      <th>min</th>\n",
              "      <td>2001.000000</td>\n",
              "      <td>-4.922000</td>\n",
              "      <td>-4.922000</td>\n",
              "      <td>-4.922000</td>\n",
              "      <td>-4.922000</td>\n",
              "      <td>-4.92200</td>\n",
              "      <td>0.356070</td>\n",
              "      <td>-4.922000</td>\n",
              "    </tr>\n",
              "    <tr>\n",
              "      <th>25%</th>\n",
              "      <td>2002.000000</td>\n",
              "      <td>-0.639500</td>\n",
              "      <td>-0.639500</td>\n",
              "      <td>-0.640000</td>\n",
              "      <td>-0.640000</td>\n",
              "      <td>-0.64000</td>\n",
              "      <td>1.257400</td>\n",
              "      <td>-0.639500</td>\n",
              "    </tr>\n",
              "    <tr>\n",
              "      <th>50%</th>\n",
              "      <td>2003.000000</td>\n",
              "      <td>0.039000</td>\n",
              "      <td>0.039000</td>\n",
              "      <td>0.038500</td>\n",
              "      <td>0.038500</td>\n",
              "      <td>0.03850</td>\n",
              "      <td>1.422950</td>\n",
              "      <td>0.038500</td>\n",
              "    </tr>\n",
              "    <tr>\n",
              "      <th>75%</th>\n",
              "      <td>2004.000000</td>\n",
              "      <td>0.596750</td>\n",
              "      <td>0.596750</td>\n",
              "      <td>0.596750</td>\n",
              "      <td>0.596750</td>\n",
              "      <td>0.59700</td>\n",
              "      <td>1.641675</td>\n",
              "      <td>0.596750</td>\n",
              "    </tr>\n",
              "    <tr>\n",
              "      <th>max</th>\n",
              "      <td>2005.000000</td>\n",
              "      <td>5.733000</td>\n",
              "      <td>5.733000</td>\n",
              "      <td>5.733000</td>\n",
              "      <td>5.733000</td>\n",
              "      <td>5.73300</td>\n",
              "      <td>3.152470</td>\n",
              "      <td>5.733000</td>\n",
              "    </tr>\n",
              "  </tbody>\n",
              "</table>\n",
              "</div>"
            ],
            "text/plain": [
              "              Year         Lag1  ...       Volume        Today\n",
              "count  1250.000000  1250.000000  ...  1250.000000  1250.000000\n",
              "mean   2003.016000     0.003834  ...     1.478305     0.003138\n",
              "std       1.409018     1.136299  ...     0.360357     1.136334\n",
              "min    2001.000000    -4.922000  ...     0.356070    -4.922000\n",
              "25%    2002.000000    -0.639500  ...     1.257400    -0.639500\n",
              "50%    2003.000000     0.039000  ...     1.422950     0.038500\n",
              "75%    2004.000000     0.596750  ...     1.641675     0.596750\n",
              "max    2005.000000     5.733000  ...     3.152470     5.733000\n",
              "\n",
              "[8 rows x 8 columns]"
            ]
          },
          "metadata": {
            "tags": []
          },
          "execution_count": 109
        }
      ]
    },
    {
      "cell_type": "code",
      "metadata": {
        "id": "MjXNrLkOdSt9",
        "colab_type": "code",
        "outputId": "bdd7ae2b-c332-483f-f58e-e2fca5d9ba19",
        "colab": {
          "base_uri": "https://localhost:8080/",
          "height": 34
        }
      },
      "source": [
        "df.shape[0]"
      ],
      "execution_count": 0,
      "outputs": [
        {
          "output_type": "execute_result",
          "data": {
            "text/plain": [
              "1250"
            ]
          },
          "metadata": {
            "tags": []
          },
          "execution_count": 110
        }
      ]
    },
    {
      "cell_type": "code",
      "metadata": {
        "id": "b0WocCZEdXUf",
        "colab_type": "code",
        "outputId": "cf2e5251-9afd-497d-971f-ae512c615b4a",
        "colab": {
          "base_uri": "https://localhost:8080/",
          "height": 187
        }
      },
      "source": [
        "df\n",
        "df.dtypes"
      ],
      "execution_count": 0,
      "outputs": [
        {
          "output_type": "execute_result",
          "data": {
            "text/plain": [
              "Year           int64\n",
              "Lag1         float64\n",
              "Lag2         float64\n",
              "Lag3         float64\n",
              "Lag4         float64\n",
              "Lag5         float64\n",
              "Volume       float64\n",
              "Today        float64\n",
              "Direction     object\n",
              "dtype: object"
            ]
          },
          "metadata": {
            "tags": []
          },
          "execution_count": 111
        }
      ]
    },
    {
      "cell_type": "code",
      "metadata": {
        "id": "5u1e6ctndcJP",
        "colab_type": "code",
        "outputId": "90b9f0e9-7b16-43d9-b6f3-cfc2ee6aa99c",
        "colab": {
          "base_uri": "https://localhost:8080/",
          "height": 594
        }
      },
      "source": [
        "f = plt.figure(figsize=(10,10))\n",
        "plt.matshow(df.corr(), fignum=f.number)\n",
        "plt.xticks(range(df.shape[1]-1), df.drop('Direction', axis=1).columns, fontsize=14, rotation=45)\n",
        "plt.yticks(range(df.shape[1]-1), df.drop('Direction', axis=1).columns, fontsize=14)\n",
        "cb = plt.colorbar()\n",
        "cb.ax.tick_params(labelsize=14)\n",
        "plt.title('Correlation Matrix', fontsize=16);"
      ],
      "execution_count": 0,
      "outputs": [
        {
          "output_type": "display_data",
          "data": {
            "image/png": "[encoded data removed]",
            "text/plain": [
              "<Figure size 720x720 with 2 Axes>"
            ]
          },
          "metadata": {
            "tags": []
          }
        }
      ]
    },
    {
      "cell_type": "markdown",
      "metadata": {
        "id": "4hKRbZa0d8Rx",
        "colab_type": "text"
      },
      "source": [
        "The correlation matrix shows the correlation between different values. A value of 1 is perfect correlation, a value of 0 indicates no correlation and a value of -1 indicates a perfect negative correlation. From this correlation matrix we can see that the correlation between the lag variables is close to 0, which indicates no correlation.  The only significant correlation in the matrix is between year and volume. "
      ]
    },
    {
      "cell_type": "code",
      "metadata": {
        "id": "J4cxNYWZd-p_",
        "colab_type": "code",
        "outputId": "e62fb3d9-1624-4630-d65f-d75590162ae6",
        "colab": {
          "base_uri": "https://localhost:8080/",
          "height": 623
        }
      },
      "source": [
        "plt.figure(figsize=(10,10))\n",
        "sns.regplot(x=\"Year\", y=\"Volume\", color=\"black\", data=df);\n",
        "plt.ylabel(\"Volume, the number of shares \")\n",
        "plt.xlabel(\"Year\")"
      ],
      "execution_count": 0,
      "outputs": [
        {
          "output_type": "execute_result",
          "data": {
            "text/plain": [
              "Text(0.5, 0, 'Year')"
            ]
          },
          "metadata": {
            "tags": []
          },
          "execution_count": 113
        },
        {
          "output_type": "display_data",
          "data": {
            "image/png": "[encoded data removed]",
            "text/plain": [
              "<Figure size 720x720 with 1 Axes>"
            ]
          },
          "metadata": {
            "tags": []
          }
        }
      ]
    },
    {
      "cell_type": "markdown",
      "metadata": {
        "id": "5o1gpsA5gv_u",
        "colab_type": "text"
      },
      "source": [
        "By examining the plotted data we can see that the Volume, or the number of shares increases each as the number of years increases which confirms the positive correlation shown by the correlation matrix. "
      ]
    },
    {
      "cell_type": "code",
      "metadata": {
        "id": "tye-UfAtgzKX",
        "colab_type": "code",
        "outputId": "938b0f6f-455b-48c7-b7cd-0ac711e176fa",
        "colab": {
          "base_uri": "https://localhost:8080/",
          "height": 391
        }
      },
      "source": [
        "model = smf.glm(formula = 'Direction ~ Lag1 + Lag2 + Lag3 + Lag4 + Lag5 + Volume', data=df, family=sm.families.Binomial())\n",
        "result = model.fit()\n",
        "print(result.summary())"
      ],
      "execution_count": 0,
      "outputs": [
        {
          "output_type": "stream",
          "text": [
            "                          Generalized Linear Model Regression Results                           \n",
            "================================================================================================\n",
            "Dep. Variable:     ['Direction[Down]', 'Direction[Up]']   No. Observations:                 1250\n",
            "Model:                                              GLM   Df Residuals:                     1243\n",
            "Model Family:                                  Binomial   Df Model:                            6\n",
            "Link Function:                                    logit   Scale:                          1.0000\n",
            "Method:                                            IRLS   Log-Likelihood:                -863.79\n",
            "Date:                                  Wed, 04 Mar 2020   Deviance:                       1727.6\n",
            "Time:                                          01:48:53   Pearson chi2:                 1.25e+03\n",
            "No. Iterations:                                       4                                         \n",
            "Covariance Type:                              nonrobust                                         \n",
            "==============================================================================\n",
            "                 coef    std err          z      P>|z|      [0.025      0.975]\n",
            "------------------------------------------------------------------------------\n",
            "Intercept      0.1260      0.241      0.523      0.601      -0.346       0.598\n",
            "Lag1           0.0731      0.050      1.457      0.145      -0.025       0.171\n",
            "Lag2           0.0423      0.050      0.845      0.398      -0.056       0.140\n",
            "Lag3          -0.0111      0.050     -0.222      0.824      -0.109       0.087\n",
            "Lag4          -0.0094      0.050     -0.187      0.851      -0.107       0.089\n",
            "Lag5          -0.0103      0.050     -0.208      0.835      -0.107       0.087\n",
            "Volume        -0.1354      0.158     -0.855      0.392      -0.446       0.175\n",
            "==============================================================================\n"
          ],
          "name": "stdout"
        }
      ]
    },
    {
      "cell_type": "markdown",
      "metadata": {
        "id": "9X5wq--w9oMA",
        "colab_type": "text"
      },
      "source": [
        "The table shows the results of the logistic regression, from the p values we can see that all of the values do not have a clear correlation with Direction. Lag1 and Lag2 have a positive coeficient suggesting that the higher these values are the more likely the market will go up and Lag3,Lag4,Lag5 and Volume have a negative coeficient suggesting that the higher these values are the less likely the market will go up. "
      ]
    },
    {
      "cell_type": "code",
      "metadata": {
        "id": "j6p-jcHSzxLq",
        "colab_type": "code",
        "outputId": "53157ce1-5b71-4eb5-a598-52e95654e219",
        "colab": {
          "base_uri": "https://localhost:8080/",
          "height": 51
        }
      },
      "source": [
        "probs = result.predict()\n",
        "pred = np.array(probs > 0.5, dtype=float)\n",
        "predictions_nominal = [ \"Up\" if x < 0.5 else \"Down\" for x in pred]\n",
        "print(confusion_matrix(df[\"Direction\"], predictions_nominal))"
      ],
      "execution_count": 0,
      "outputs": [
        {
          "output_type": "stream",
          "text": [
            "[[145 457]\n",
            " [141 507]]\n"
          ],
          "name": "stdout"
        }
      ]
    },
    {
      "cell_type": "code",
      "metadata": {
        "id": "0bVZUCZ64Vt-",
        "colab_type": "code",
        "outputId": "baafd706-bf0a-45c5-dcc0-d2a73f93d445",
        "colab": {
          "base_uri": "https://localhost:8080/",
          "height": 170
        }
      },
      "source": [
        "print(classification_report(df[\"Direction\"], predictions_nominal, digits=3))"
      ],
      "execution_count": 0,
      "outputs": [
        {
          "output_type": "stream",
          "text": [
            "              precision    recall  f1-score   support\n",
            "\n",
            "        Down      0.507     0.241     0.327       602\n",
            "          Up      0.526     0.782     0.629       648\n",
            "\n",
            "    accuracy                          0.522      1250\n",
            "   macro avg      0.516     0.512     0.478      1250\n",
            "weighted avg      0.517     0.522     0.483      1250\n",
            "\n"
          ],
          "name": "stdout"
        }
      ]
    },
    {
      "cell_type": "markdown",
      "metadata": {
        "id": "091EwEvV5HWx",
        "colab_type": "text"
      },
      "source": [
        "By examining the confusion matrix we can see that the Direction and predicted were Up 507 days and the Direction and predicted were down 145 days. 141 days the direction was Up but the prediction was down and 457 days the direction was down but the prediction was up. This gives us an accuracy of 0.52 or 52%"
      ]
    },
    {
      "cell_type": "code",
      "metadata": {
        "id": "xhIfmMJ95Zz0",
        "colab_type": "code",
        "outputId": "87fadd88-7b28-4ca1-c64e-ebbc4aff2960",
        "colab": {
          "base_uri": "https://localhost:8080/",
          "height": 204
        }
      },
      "source": [
        "model = smf.glm(formula = 'Direction ~ Lag1 + Lag2', data=df, family=sm.families.Binomial())\n",
        "result = model.fit()\n",
        "probs = result.predict()\n",
        "pred = np.array(probs > 0.5, dtype=float)\n",
        "predictions_nominal = [ \"Up\" if x < 0.5 else \"Down\" for x in pred]\n",
        "print(confusion_matrix(df[\"Direction\"], predictions_nominal))\n",
        "print(classification_report(df[\"Direction\"], predictions_nominal, digits=3))"
      ],
      "execution_count": 0,
      "outputs": [
        {
          "output_type": "stream",
          "text": [
            "[[114 488]\n",
            " [102 546]]\n",
            "              precision    recall  f1-score   support\n",
            "\n",
            "        Down      0.528     0.189     0.279       602\n",
            "          Up      0.528     0.843     0.649       648\n",
            "\n",
            "    accuracy                          0.528      1250\n",
            "   macro avg      0.528     0.516     0.464      1250\n",
            "weighted avg      0.528     0.528     0.471      1250\n",
            "\n"
          ],
          "name": "stdout"
        }
      ]
    },
    {
      "cell_type": "markdown",
      "metadata": {
        "id": "KiBxvo1a_QJp",
        "colab_type": "text"
      },
      "source": [
        "We adjusted the model and included only Lag1 and Lag2, from the confusion matrix we can see that the Direction and predicted were Up 546 days and Direction and predicted were down 114 days. 488 days the prediction was up but direction was down and 102 days the direction was up but the prediction was down. This gives us an accuracy of 0.53 or 53%"
      ]
    },
    {
      "cell_type": "code",
      "metadata": {
        "id": "d3WLYCLP6wKt",
        "colab_type": "code",
        "outputId": "c9f45bf5-863e-4f81-fdd9-3bcac9dfb42c",
        "colab": {
          "base_uri": "https://localhost:8080/",
          "height": 85
        }
      },
      "source": [
        "lda = LinearDiscriminantAnalysis()\n",
        "model = lda.fit(df[['Lag1','Lag2']], df['Direction'])\n",
        "print(model.priors_)\n",
        "print(model.means_)\n",
        "print(model.coef_)"
      ],
      "execution_count": 0,
      "outputs": [
        {
          "output_type": "stream",
          "text": [
            "[0.4816 0.5184]\n",
            "[[ 0.05068605  0.03229734]\n",
            " [-0.03969136 -0.02244444]]\n",
            "[[-0.07126095 -0.04433204]]\n"
          ],
          "name": "stdout"
        }
      ]
    },
    {
      "cell_type": "markdown",
      "metadata": {
        "id": "glWd4H_pCb4f",
        "colab_type": "text"
      },
      "source": [
        "The prior probabilities of groups give us the percentage values of the training observations found in each category in this case 0.48 or 48% of observations correspond to Down direction and 0.518 or 51.8% of observations corresponds to Up direction. The group means show the average of the two predictors within the two categories. The average for Lag1 in the Down category is 0.0506 and the average for Lag2 in the Down category is 0.322. This suggests that the percentage return for previous day and for 2 days previous is positive when the market goes down. The average for Lag1 in the Up category is -0.0396 and the average for Lag2 in the Up category is -0.224. This suggests that the percentage return for the previous day and for 2 days previous is negative when the market goes up. \n",
        "\n",
        "The coefficients of linear discriminants are used to calculate the score which is used to calculate the posterior probability of class memebership."
      ]
    },
    {
      "cell_type": "code",
      "metadata": {
        "id": "J2r2oP82yyW5",
        "colab_type": "code",
        "outputId": "546fa7b5-eaa4-46bf-e59b-503e02aa85b6",
        "colab": {
          "base_uri": "https://localhost:8080/",
          "height": 204
        }
      },
      "source": [
        "pred=model.predict(df[['Lag1','Lag2']])\n",
        "print(confusion_matrix(pred, df['Direction']))\n",
        "print(classification_report(df['Direction'], pred, digits=3))"
      ],
      "execution_count": 0,
      "outputs": [
        {
          "output_type": "stream",
          "text": [
            "[[114 102]\n",
            " [488 546]]\n",
            "              precision    recall  f1-score   support\n",
            "\n",
            "        Down      0.528     0.189     0.279       602\n",
            "          Up      0.528     0.843     0.649       648\n",
            "\n",
            "    accuracy                          0.528      1250\n",
            "   macro avg      0.528     0.516     0.464      1250\n",
            "weighted avg      0.528     0.528     0.471      1250\n",
            "\n"
          ],
          "name": "stdout"
        }
      ]
    },
    {
      "cell_type": "markdown",
      "metadata": {
        "id": "2z8PlxIdI0FP",
        "colab_type": "text"
      },
      "source": [
        "By examining the confusion matrix we can see that the Direction and predicted were Up 546 days and the Direction and predicted were down 114 days. 102 days the direction was Up but the prediction was down and 488 days the direction was down but the prediction was up. This gives us an accuracy of 0.53 or 53%"
      ]
    },
    {
      "cell_type": "code",
      "metadata": {
        "id": "_1dS5EL2JXHV",
        "colab_type": "code",
        "outputId": "5b305c97-cf4b-42a3-8ef2-d12b8d3f71d9",
        "colab": {
          "base_uri": "https://localhost:8080/",
          "height": 68
        }
      },
      "source": [
        "qda = QuadraticDiscriminantAnalysis()\n",
        "model = qda.fit(df[['Lag1','Lag2']], df['Direction'])\n",
        "print(model.priors_)\n",
        "print(model.means_)"
      ],
      "execution_count": 0,
      "outputs": [
        {
          "output_type": "stream",
          "text": [
            "[0.4816 0.5184]\n",
            "[[ 0.05068605  0.03229734]\n",
            " [-0.03969136 -0.02244444]]\n"
          ],
          "name": "stdout"
        }
      ]
    },
    {
      "cell_type": "markdown",
      "metadata": {
        "id": "JMa5T4-tJ3yJ",
        "colab_type": "text"
      },
      "source": [
        "These values are the same as for the LDA with the notable absance of coefficients of linear discriminants as QDA uses a quadratic function for the predictors instead of a linear one. "
      ]
    },
    {
      "cell_type": "code",
      "metadata": {
        "id": "l1_l4WksUl_5",
        "colab_type": "code",
        "outputId": "00a70e6e-4b4e-4d5d-d05b-1f730c7980ed",
        "colab": {
          "base_uri": "https://localhost:8080/",
          "height": 204
        }
      },
      "source": [
        "pred=model.predict(df[['Lag1','Lag2']])\n",
        "print(confusion_matrix(pred, df['Direction']))\n",
        "print(classification_report(df['Direction'], pred, digits=3))"
      ],
      "execution_count": 0,
      "outputs": [
        {
          "output_type": "stream",
          "text": [
            "[[109  94]\n",
            " [493 554]]\n",
            "              precision    recall  f1-score   support\n",
            "\n",
            "        Down      0.537     0.181     0.271       602\n",
            "          Up      0.529     0.855     0.654       648\n",
            "\n",
            "    accuracy                          0.530      1250\n",
            "   macro avg      0.533     0.518     0.462      1250\n",
            "weighted avg      0.533     0.530     0.469      1250\n",
            "\n"
          ],
          "name": "stdout"
        }
      ]
    },
    {
      "cell_type": "markdown",
      "metadata": {
        "id": "gU3If8IiWyA0",
        "colab_type": "text"
      },
      "source": [
        "By examining the confusion matrix we can see that the Direction and predicted were Up 554 days and the Direction and predicted were down 109 days. 94 days the direction was Up but the prediction was down and 493 days the direction was down but the prediction was up. This gives us an accuracy of 0.53 or 53%"
      ]
    },
    {
      "cell_type": "code",
      "metadata": {
        "id": "qxyfrI00VKGA",
        "colab_type": "code",
        "outputId": "115335bf-9969-46fc-df91-3863e95be519",
        "colab": {
          "base_uri": "https://localhost:8080/",
          "height": 34
        }
      },
      "source": [
        "train = df[df['Year'] >= 2005]\n",
        "print(train.shape[0])"
      ],
      "execution_count": 0,
      "outputs": [
        {
          "output_type": "stream",
          "text": [
            "252\n"
          ],
          "name": "stdout"
        }
      ]
    },
    {
      "cell_type": "code",
      "metadata": {
        "id": "qbHuIg6cd_5F",
        "colab_type": "code",
        "outputId": "772aecc9-9126-4b87-992c-f6688bfd632a",
        "colab": {
          "base_uri": "https://localhost:8080/",
          "height": 204
        }
      },
      "source": [
        "X_train = df[df['Year'] < 2005][['Lag1','Lag2']]\n",
        "y_train = df[df['Year'] < 2005]['Direction']\n",
        "\n",
        "X_test = df[df['Year'] >= 2005][['Lag1','Lag2']]\n",
        "y_test = df[df['Year'] >= 2005]['Direction']\n",
        "\n",
        "\n",
        "knn = neighbors.KNeighborsClassifier(n_neighbors = 1)\n",
        "pred = knn.fit(X_train, y_train).predict(X_test)\n",
        "\n",
        "print(confusion_matrix(y_test, pred).T)\n",
        "print(classification_report(y_test, pred, digits=3))"
      ],
      "execution_count": 0,
      "outputs": [
        {
          "output_type": "stream",
          "text": [
            "[[43 58]\n",
            " [68 83]]\n",
            "              precision    recall  f1-score   support\n",
            "\n",
            "        Down      0.426     0.387     0.406       111\n",
            "          Up      0.550     0.589     0.568       141\n",
            "\n",
            "    accuracy                          0.500       252\n",
            "   macro avg      0.488     0.488     0.487       252\n",
            "weighted avg      0.495     0.500     0.497       252\n",
            "\n"
          ],
          "name": "stdout"
        }
      ]
    },
    {
      "cell_type": "code",
      "metadata": {
        "id": "cS701KLoeMRj",
        "colab_type": "code",
        "outputId": "d87883cb-be87-40dd-bf39-ae3da90d5387",
        "colab": {
          "base_uri": "https://localhost:8080/",
          "height": 204
        }
      },
      "source": [
        "knn = neighbors.KNeighborsClassifier(n_neighbors = 3)\n",
        "pred = knn.fit(X_train, y_train).predict(X_test)\n",
        "\n",
        "print(confusion_matrix(y_test, pred).T)\n",
        "print(classification_report(y_test, pred, digits=3))"
      ],
      "execution_count": 0,
      "outputs": [
        {
          "output_type": "stream",
          "text": [
            "[[48 55]\n",
            " [63 86]]\n",
            "              precision    recall  f1-score   support\n",
            "\n",
            "        Down      0.466     0.432     0.449       111\n",
            "          Up      0.577     0.610     0.593       141\n",
            "\n",
            "    accuracy                          0.532       252\n",
            "   macro avg      0.522     0.521     0.521       252\n",
            "weighted avg      0.528     0.532     0.529       252\n",
            "\n"
          ],
          "name": "stdout"
        }
      ]
    },
    {
      "cell_type": "markdown",
      "metadata": {
        "id": "eibyJuEyKDdA",
        "colab_type": "text"
      },
      "source": [
        "From looking at the results of K-Nearest Neighbours we can see that the accuracy of our predictions has increased with k. The confusion matrix provides a smaller sample as the data had been split into test and train sets. The train set has values recorded before 2005 and the test set has values recorder from 2005 and onwards.  The accuracy for k=1 is 50% and the accuracy for k=3 is 53.2% which is the highest accuracy of all of the methods that we had tried. "
      ]
    }
  ]
}